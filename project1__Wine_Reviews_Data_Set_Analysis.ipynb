{
  "nbformat": 4,
  "nbformat_minor": 0,
  "metadata": {
    "colab": {
      "provenance": [],
      "authorship_tag": "ABX9TyN5DD0XVY8ALZ0n5W3GBb/u",
      "include_colab_link": true
    },
    "kernelspec": {
      "name": "python3",
      "display_name": "Python 3"
    },
    "language_info": {
      "name": "python"
    }
  },
  "cells": [
    {
      "cell_type": "markdown",
      "metadata": {
        "id": "view-in-github",
        "colab_type": "text"
      },
      "source": [
        "<a href=\"https://colab.research.google.com/github/Guympele/Projets-on-Data-Analysis/blob/Data-sets-analysis/project1__Wine_Reviews_Data_Set_Analysis.ipynb\" target=\"_parent\"><img src=\"https://colab.research.google.com/assets/colab-badge.svg\" alt=\"Open In Colab\"/></a>"
      ]
    },
    {
      "cell_type": "code",
      "execution_count": 1,
      "metadata": {
        "colab": {
          "base_uri": "https://localhost:8080/"
        },
        "id": "Lln3o8xsvT-l",
        "outputId": "257e2aa8-54cd-4298-d170-71d50e711005"
      },
      "outputs": [
        {
          "output_type": "stream",
          "name": "stdout",
          "text": [
            "--2024-04-05 14:53:21--  https://www.dropbox.com/s/wti4hu2mth7cze5/STAT%20S01V15.zip\n",
            "Resolving www.dropbox.com (www.dropbox.com)... 162.125.5.18, 2620:100:601d:18::a27d:512\n",
            "Connecting to www.dropbox.com (www.dropbox.com)|162.125.5.18|:443... connected.\n",
            "HTTP request sent, awaiting response... 302 Found\n",
            "Location: /s/raw/wti4hu2mth7cze5/STAT%20S01V15.zip [following]\n",
            "--2024-04-05 14:53:22--  https://www.dropbox.com/s/raw/wti4hu2mth7cze5/STAT%20S01V15.zip\n",
            "Reusing existing connection to www.dropbox.com:443.\n",
            "HTTP request sent, awaiting response... 302 Found\n",
            "Location: https://uc29a982f79239bfd6082ab92d9a.dl.dropboxusercontent.com/cd/0/inline/CQc8HPVoO6Ekm6CxKXFC6e64Dbjq3LiZ3RhAo7uZ1XF4L5ST8qXXynZqEhvBdH0nV_Nted0fADYHblT6ITg-bHFsMu8ciSUk6NEWgilNc_lTf6u2iGXcWly75XzlZgMJQRRtkMxpK7h1a1n5DrY5IDll/file# [following]\n",
            "--2024-04-05 14:53:22--  https://uc29a982f79239bfd6082ab92d9a.dl.dropboxusercontent.com/cd/0/inline/CQc8HPVoO6Ekm6CxKXFC6e64Dbjq3LiZ3RhAo7uZ1XF4L5ST8qXXynZqEhvBdH0nV_Nted0fADYHblT6ITg-bHFsMu8ciSUk6NEWgilNc_lTf6u2iGXcWly75XzlZgMJQRRtkMxpK7h1a1n5DrY5IDll/file\n",
            "Resolving uc29a982f79239bfd6082ab92d9a.dl.dropboxusercontent.com (uc29a982f79239bfd6082ab92d9a.dl.dropboxusercontent.com)... 162.125.5.15, 2620:100:601d:15::a27d:50f\n",
            "Connecting to uc29a982f79239bfd6082ab92d9a.dl.dropboxusercontent.com (uc29a982f79239bfd6082ab92d9a.dl.dropboxusercontent.com)|162.125.5.15|:443... connected.\n",
            "HTTP request sent, awaiting response... 302 Found\n",
            "Location: /cd/0/inline2/CQdjy76Y4bDCh8uZr3Xf9Ya89efux6MGETd8_8bII0flr3cy7dt9pJ2Nf4Bl9he-c6ZyVhHsVDzDt5Unxl1YA2tDukylqZj00uxPfuoHzb_TrRSwyeD2-IZIKLey15WxbrHGO5GCwc_z_-Vkks1KirExn6vxbOhHaIwQUKebOUxxiiAScrjuUbN3ifOzmg-Dccq5NU0WsWL9Yv5NFfnNsnoxkKAJ5Xi4Wbvv3I9vRgNe1tOGmNjvIKWtz_ItW8iCJUk0fnRhSxxpu_F_nhyo3dUv3zmxTqfsXQAvKmyxEgX-fR4sSgJAoNmlhT79oybVeA5ZD8oQives15Rm66m8SyUy-5yfQTZH7hBHRJY7Xk-WN4YB2vcipbuxdxCq0B8-8k8/file [following]\n",
            "--2024-04-05 14:53:22--  https://uc29a982f79239bfd6082ab92d9a.dl.dropboxusercontent.com/cd/0/inline2/CQdjy76Y4bDCh8uZr3Xf9Ya89efux6MGETd8_8bII0flr3cy7dt9pJ2Nf4Bl9he-c6ZyVhHsVDzDt5Unxl1YA2tDukylqZj00uxPfuoHzb_TrRSwyeD2-IZIKLey15WxbrHGO5GCwc_z_-Vkks1KirExn6vxbOhHaIwQUKebOUxxiiAScrjuUbN3ifOzmg-Dccq5NU0WsWL9Yv5NFfnNsnoxkKAJ5Xi4Wbvv3I9vRgNe1tOGmNjvIKWtz_ItW8iCJUk0fnRhSxxpu_F_nhyo3dUv3zmxTqfsXQAvKmyxEgX-fR4sSgJAoNmlhT79oybVeA5ZD8oQives15Rm66m8SyUy-5yfQTZH7hBHRJY7Xk-WN4YB2vcipbuxdxCq0B8-8k8/file\n",
            "Reusing existing connection to uc29a982f79239bfd6082ab92d9a.dl.dropboxusercontent.com:443.\n",
            "HTTP request sent, awaiting response... 200 OK\n",
            "Length: 17518598 (17M) [application/zip]\n",
            "Saving to: ‘STAT S01V15.zip’\n",
            "\n",
            "STAT S01V15.zip     100%[===================>]  16.71M  1.15MB/s    in 12s     \n",
            "\n",
            "2024-04-05 14:53:34 (1.43 MB/s) - ‘STAT S01V15.zip’ saved [17518598/17518598]\n",
            "\n",
            "Archive:  STAT S01V15.zip\n",
            "  inflating: winemag-data_first150k.csv  \n"
          ]
        }
      ],
      "source": [
        "!wget https://www.dropbox.com/s/wti4hu2mth7cze5/STAT%20S01V15.zip\n",
        "!unzip  \"STAT S01V15.zip\"\n",
        "import pandas as pd\n",
        "import numpy as np"
      ]
    },
    {
      "cell_type": "code",
      "source": [
        "df = pd.read_csv(\"winemag-data_first150k.csv\")\n",
        "df.head()"
      ],
      "metadata": {
        "colab": {
          "base_uri": "https://localhost:8080/",
          "height": 310
        },
        "id": "umzms6QAwFez",
        "outputId": "9d06ac36-0dab-47cb-d48b-c7e71ee11a24"
      },
      "execution_count": 3,
      "outputs": [
        {
          "output_type": "execute_result",
          "data": {
            "text/plain": [
              "   Unnamed: 0 country                                        description  \\\n",
              "0           0      US  This tremendous 100% varietal wine hails from ...   \n",
              "1           1   Spain  Ripe aromas of fig, blackberry and cassis are ...   \n",
              "2           2      US  Mac Watson honors the memory of a wine once ma...   \n",
              "3           3      US  This spent 20 months in 30% new French oak, an...   \n",
              "4           4  France  This is the top wine from La Bégude, named aft...   \n",
              "\n",
              "                            designation  points  price        province  \\\n",
              "0                     Martha's Vineyard      96  235.0      California   \n",
              "1  Carodorum Selección Especial Reserva      96  110.0  Northern Spain   \n",
              "2         Special Selected Late Harvest      96   90.0      California   \n",
              "3                               Reserve      96   65.0          Oregon   \n",
              "4                            La Brûlade      95   66.0        Provence   \n",
              "\n",
              "            region_1           region_2             variety  \\\n",
              "0        Napa Valley               Napa  Cabernet Sauvignon   \n",
              "1               Toro                NaN       Tinta de Toro   \n",
              "2     Knights Valley             Sonoma     Sauvignon Blanc   \n",
              "3  Willamette Valley  Willamette Valley          Pinot Noir   \n",
              "4             Bandol                NaN  Provence red blend   \n",
              "\n",
              "                    winery  \n",
              "0                    Heitz  \n",
              "1  Bodega Carmen Rodríguez  \n",
              "2                 Macauley  \n",
              "3                    Ponzi  \n",
              "4     Domaine de la Bégude  "
            ],
            "text/html": [
              "\n",
              "  <div id=\"df-471f0544-d753-4617-98e9-d147ddb367c3\" class=\"colab-df-container\">\n",
              "    <div>\n",
              "<style scoped>\n",
              "    .dataframe tbody tr th:only-of-type {\n",
              "        vertical-align: middle;\n",
              "    }\n",
              "\n",
              "    .dataframe tbody tr th {\n",
              "        vertical-align: top;\n",
              "    }\n",
              "\n",
              "    .dataframe thead th {\n",
              "        text-align: right;\n",
              "    }\n",
              "</style>\n",
              "<table border=\"1\" class=\"dataframe\">\n",
              "  <thead>\n",
              "    <tr style=\"text-align: right;\">\n",
              "      <th></th>\n",
              "      <th>Unnamed: 0</th>\n",
              "      <th>country</th>\n",
              "      <th>description</th>\n",
              "      <th>designation</th>\n",
              "      <th>points</th>\n",
              "      <th>price</th>\n",
              "      <th>province</th>\n",
              "      <th>region_1</th>\n",
              "      <th>region_2</th>\n",
              "      <th>variety</th>\n",
              "      <th>winery</th>\n",
              "    </tr>\n",
              "  </thead>\n",
              "  <tbody>\n",
              "    <tr>\n",
              "      <th>0</th>\n",
              "      <td>0</td>\n",
              "      <td>US</td>\n",
              "      <td>This tremendous 100% varietal wine hails from ...</td>\n",
              "      <td>Martha's Vineyard</td>\n",
              "      <td>96</td>\n",
              "      <td>235.0</td>\n",
              "      <td>California</td>\n",
              "      <td>Napa Valley</td>\n",
              "      <td>Napa</td>\n",
              "      <td>Cabernet Sauvignon</td>\n",
              "      <td>Heitz</td>\n",
              "    </tr>\n",
              "    <tr>\n",
              "      <th>1</th>\n",
              "      <td>1</td>\n",
              "      <td>Spain</td>\n",
              "      <td>Ripe aromas of fig, blackberry and cassis are ...</td>\n",
              "      <td>Carodorum Selección Especial Reserva</td>\n",
              "      <td>96</td>\n",
              "      <td>110.0</td>\n",
              "      <td>Northern Spain</td>\n",
              "      <td>Toro</td>\n",
              "      <td>NaN</td>\n",
              "      <td>Tinta de Toro</td>\n",
              "      <td>Bodega Carmen Rodríguez</td>\n",
              "    </tr>\n",
              "    <tr>\n",
              "      <th>2</th>\n",
              "      <td>2</td>\n",
              "      <td>US</td>\n",
              "      <td>Mac Watson honors the memory of a wine once ma...</td>\n",
              "      <td>Special Selected Late Harvest</td>\n",
              "      <td>96</td>\n",
              "      <td>90.0</td>\n",
              "      <td>California</td>\n",
              "      <td>Knights Valley</td>\n",
              "      <td>Sonoma</td>\n",
              "      <td>Sauvignon Blanc</td>\n",
              "      <td>Macauley</td>\n",
              "    </tr>\n",
              "    <tr>\n",
              "      <th>3</th>\n",
              "      <td>3</td>\n",
              "      <td>US</td>\n",
              "      <td>This spent 20 months in 30% new French oak, an...</td>\n",
              "      <td>Reserve</td>\n",
              "      <td>96</td>\n",
              "      <td>65.0</td>\n",
              "      <td>Oregon</td>\n",
              "      <td>Willamette Valley</td>\n",
              "      <td>Willamette Valley</td>\n",
              "      <td>Pinot Noir</td>\n",
              "      <td>Ponzi</td>\n",
              "    </tr>\n",
              "    <tr>\n",
              "      <th>4</th>\n",
              "      <td>4</td>\n",
              "      <td>France</td>\n",
              "      <td>This is the top wine from La Bégude, named aft...</td>\n",
              "      <td>La Brûlade</td>\n",
              "      <td>95</td>\n",
              "      <td>66.0</td>\n",
              "      <td>Provence</td>\n",
              "      <td>Bandol</td>\n",
              "      <td>NaN</td>\n",
              "      <td>Provence red blend</td>\n",
              "      <td>Domaine de la Bégude</td>\n",
              "    </tr>\n",
              "  </tbody>\n",
              "</table>\n",
              "</div>\n",
              "    <div class=\"colab-df-buttons\">\n",
              "\n",
              "  <div class=\"colab-df-container\">\n",
              "    <button class=\"colab-df-convert\" onclick=\"convertToInteractive('df-471f0544-d753-4617-98e9-d147ddb367c3')\"\n",
              "            title=\"Convert this dataframe to an interactive table.\"\n",
              "            style=\"display:none;\">\n",
              "\n",
              "  <svg xmlns=\"http://www.w3.org/2000/svg\" height=\"24px\" viewBox=\"0 -960 960 960\">\n",
              "    <path d=\"M120-120v-720h720v720H120Zm60-500h600v-160H180v160Zm220 220h160v-160H400v160Zm0 220h160v-160H400v160ZM180-400h160v-160H180v160Zm440 0h160v-160H620v160ZM180-180h160v-160H180v160Zm440 0h160v-160H620v160Z\"/>\n",
              "  </svg>\n",
              "    </button>\n",
              "\n",
              "  <style>\n",
              "    .colab-df-container {\n",
              "      display:flex;\n",
              "      gap: 12px;\n",
              "    }\n",
              "\n",
              "    .colab-df-convert {\n",
              "      background-color: #E8F0FE;\n",
              "      border: none;\n",
              "      border-radius: 50%;\n",
              "      cursor: pointer;\n",
              "      display: none;\n",
              "      fill: #1967D2;\n",
              "      height: 32px;\n",
              "      padding: 0 0 0 0;\n",
              "      width: 32px;\n",
              "    }\n",
              "\n",
              "    .colab-df-convert:hover {\n",
              "      background-color: #E2EBFA;\n",
              "      box-shadow: 0px 1px 2px rgba(60, 64, 67, 0.3), 0px 1px 3px 1px rgba(60, 64, 67, 0.15);\n",
              "      fill: #174EA6;\n",
              "    }\n",
              "\n",
              "    .colab-df-buttons div {\n",
              "      margin-bottom: 4px;\n",
              "    }\n",
              "\n",
              "    [theme=dark] .colab-df-convert {\n",
              "      background-color: #3B4455;\n",
              "      fill: #D2E3FC;\n",
              "    }\n",
              "\n",
              "    [theme=dark] .colab-df-convert:hover {\n",
              "      background-color: #434B5C;\n",
              "      box-shadow: 0px 1px 3px 1px rgba(0, 0, 0, 0.15);\n",
              "      filter: drop-shadow(0px 1px 2px rgba(0, 0, 0, 0.3));\n",
              "      fill: #FFFFFF;\n",
              "    }\n",
              "  </style>\n",
              "\n",
              "    <script>\n",
              "      const buttonEl =\n",
              "        document.querySelector('#df-471f0544-d753-4617-98e9-d147ddb367c3 button.colab-df-convert');\n",
              "      buttonEl.style.display =\n",
              "        google.colab.kernel.accessAllowed ? 'block' : 'none';\n",
              "\n",
              "      async function convertToInteractive(key) {\n",
              "        const element = document.querySelector('#df-471f0544-d753-4617-98e9-d147ddb367c3');\n",
              "        const dataTable =\n",
              "          await google.colab.kernel.invokeFunction('convertToInteractive',\n",
              "                                                    [key], {});\n",
              "        if (!dataTable) return;\n",
              "\n",
              "        const docLinkHtml = 'Like what you see? Visit the ' +\n",
              "          '<a target=\"_blank\" href=https://colab.research.google.com/notebooks/data_table.ipynb>data table notebook</a>'\n",
              "          + ' to learn more about interactive tables.';\n",
              "        element.innerHTML = '';\n",
              "        dataTable['output_type'] = 'display_data';\n",
              "        await google.colab.output.renderOutput(dataTable, element);\n",
              "        const docLink = document.createElement('div');\n",
              "        docLink.innerHTML = docLinkHtml;\n",
              "        element.appendChild(docLink);\n",
              "      }\n",
              "    </script>\n",
              "  </div>\n",
              "\n",
              "\n",
              "<div id=\"df-f8c4264c-0165-4179-9ac3-5a9688ee6e9f\">\n",
              "  <button class=\"colab-df-quickchart\" onclick=\"quickchart('df-f8c4264c-0165-4179-9ac3-5a9688ee6e9f')\"\n",
              "            title=\"Suggest charts\"\n",
              "            style=\"display:none;\">\n",
              "\n",
              "<svg xmlns=\"http://www.w3.org/2000/svg\" height=\"24px\"viewBox=\"0 0 24 24\"\n",
              "     width=\"24px\">\n",
              "    <g>\n",
              "        <path d=\"M19 3H5c-1.1 0-2 .9-2 2v14c0 1.1.9 2 2 2h14c1.1 0 2-.9 2-2V5c0-1.1-.9-2-2-2zM9 17H7v-7h2v7zm4 0h-2V7h2v10zm4 0h-2v-4h2v4z\"/>\n",
              "    </g>\n",
              "</svg>\n",
              "  </button>\n",
              "\n",
              "<style>\n",
              "  .colab-df-quickchart {\n",
              "      --bg-color: #E8F0FE;\n",
              "      --fill-color: #1967D2;\n",
              "      --hover-bg-color: #E2EBFA;\n",
              "      --hover-fill-color: #174EA6;\n",
              "      --disabled-fill-color: #AAA;\n",
              "      --disabled-bg-color: #DDD;\n",
              "  }\n",
              "\n",
              "  [theme=dark] .colab-df-quickchart {\n",
              "      --bg-color: #3B4455;\n",
              "      --fill-color: #D2E3FC;\n",
              "      --hover-bg-color: #434B5C;\n",
              "      --hover-fill-color: #FFFFFF;\n",
              "      --disabled-bg-color: #3B4455;\n",
              "      --disabled-fill-color: #666;\n",
              "  }\n",
              "\n",
              "  .colab-df-quickchart {\n",
              "    background-color: var(--bg-color);\n",
              "    border: none;\n",
              "    border-radius: 50%;\n",
              "    cursor: pointer;\n",
              "    display: none;\n",
              "    fill: var(--fill-color);\n",
              "    height: 32px;\n",
              "    padding: 0;\n",
              "    width: 32px;\n",
              "  }\n",
              "\n",
              "  .colab-df-quickchart:hover {\n",
              "    background-color: var(--hover-bg-color);\n",
              "    box-shadow: 0 1px 2px rgba(60, 64, 67, 0.3), 0 1px 3px 1px rgba(60, 64, 67, 0.15);\n",
              "    fill: var(--button-hover-fill-color);\n",
              "  }\n",
              "\n",
              "  .colab-df-quickchart-complete:disabled,\n",
              "  .colab-df-quickchart-complete:disabled:hover {\n",
              "    background-color: var(--disabled-bg-color);\n",
              "    fill: var(--disabled-fill-color);\n",
              "    box-shadow: none;\n",
              "  }\n",
              "\n",
              "  .colab-df-spinner {\n",
              "    border: 2px solid var(--fill-color);\n",
              "    border-color: transparent;\n",
              "    border-bottom-color: var(--fill-color);\n",
              "    animation:\n",
              "      spin 1s steps(1) infinite;\n",
              "  }\n",
              "\n",
              "  @keyframes spin {\n",
              "    0% {\n",
              "      border-color: transparent;\n",
              "      border-bottom-color: var(--fill-color);\n",
              "      border-left-color: var(--fill-color);\n",
              "    }\n",
              "    20% {\n",
              "      border-color: transparent;\n",
              "      border-left-color: var(--fill-color);\n",
              "      border-top-color: var(--fill-color);\n",
              "    }\n",
              "    30% {\n",
              "      border-color: transparent;\n",
              "      border-left-color: var(--fill-color);\n",
              "      border-top-color: var(--fill-color);\n",
              "      border-right-color: var(--fill-color);\n",
              "    }\n",
              "    40% {\n",
              "      border-color: transparent;\n",
              "      border-right-color: var(--fill-color);\n",
              "      border-top-color: var(--fill-color);\n",
              "    }\n",
              "    60% {\n",
              "      border-color: transparent;\n",
              "      border-right-color: var(--fill-color);\n",
              "    }\n",
              "    80% {\n",
              "      border-color: transparent;\n",
              "      border-right-color: var(--fill-color);\n",
              "      border-bottom-color: var(--fill-color);\n",
              "    }\n",
              "    90% {\n",
              "      border-color: transparent;\n",
              "      border-bottom-color: var(--fill-color);\n",
              "    }\n",
              "  }\n",
              "</style>\n",
              "\n",
              "  <script>\n",
              "    async function quickchart(key) {\n",
              "      const quickchartButtonEl =\n",
              "        document.querySelector('#' + key + ' button');\n",
              "      quickchartButtonEl.disabled = true;  // To prevent multiple clicks.\n",
              "      quickchartButtonEl.classList.add('colab-df-spinner');\n",
              "      try {\n",
              "        const charts = await google.colab.kernel.invokeFunction(\n",
              "            'suggestCharts', [key], {});\n",
              "      } catch (error) {\n",
              "        console.error('Error during call to suggestCharts:', error);\n",
              "      }\n",
              "      quickchartButtonEl.classList.remove('colab-df-spinner');\n",
              "      quickchartButtonEl.classList.add('colab-df-quickchart-complete');\n",
              "    }\n",
              "    (() => {\n",
              "      let quickchartButtonEl =\n",
              "        document.querySelector('#df-f8c4264c-0165-4179-9ac3-5a9688ee6e9f button');\n",
              "      quickchartButtonEl.style.display =\n",
              "        google.colab.kernel.accessAllowed ? 'block' : 'none';\n",
              "    })();\n",
              "  </script>\n",
              "</div>\n",
              "    </div>\n",
              "  </div>\n"
            ],
            "application/vnd.google.colaboratory.intrinsic+json": {
              "type": "dataframe",
              "variable_name": "df"
            }
          },
          "metadata": {},
          "execution_count": 3
        }
      ]
    },
    {
      "cell_type": "markdown",
      "source": [
        "**Question** **1** : Measures of Central Tendency for - Points & Price column"
      ],
      "metadata": {
        "id": "bNnH0hxAxTeK"
      }
    },
    {
      "cell_type": "code",
      "source": [
        "df[['points','price']].mean() # mean values"
      ],
      "metadata": {
        "colab": {
          "base_uri": "https://localhost:8080/"
        },
        "id": "apvNTEtTxVZU",
        "outputId": "6f0871db-0e1c-46e9-92b2-8118a14967ab"
      },
      "execution_count": 36,
      "outputs": [
        {
          "output_type": "execute_result",
          "data": {
            "text/plain": [
              "points    87.888418\n",
              "price     33.131482\n",
              "dtype: float64"
            ]
          },
          "metadata": {},
          "execution_count": 36
        }
      ]
    },
    {
      "cell_type": "markdown",
      "source": [
        "1. the average price of one bottle of wine is 33.131482 dollars\n",
        "2. the average points receive by bottle of wine is 87.888418"
      ],
      "metadata": {
        "id": "j3FEYCGDBBRg"
      }
    },
    {
      "cell_type": "code",
      "source": [
        "df[['points','price']].median() # median values"
      ],
      "metadata": {
        "colab": {
          "base_uri": "https://localhost:8080/"
        },
        "id": "vDibJn2V8Hva",
        "outputId": "e6ade322-ff3e-4821-a12b-cca1ab895e53"
      },
      "execution_count": 37,
      "outputs": [
        {
          "output_type": "execute_result",
          "data": {
            "text/plain": [
              "points    88.0\n",
              "price     24.0\n",
              "dtype: float64"
            ]
          },
          "metadata": {},
          "execution_count": 37
        }
      ]
    },
    {
      "cell_type": "markdown",
      "source": [
        "1. the price of the half bottles of wine was 24.0 dollars\n",
        "2. the half bottle of wine receive 88.0 points"
      ],
      "metadata": {
        "id": "aFEeixHXBbeH"
      }
    },
    {
      "cell_type": "code",
      "source": [
        "df[['points','price']].mode() # mode values"
      ],
      "metadata": {
        "colab": {
          "base_uri": "https://localhost:8080/",
          "height": 81
        },
        "id": "T3kyWh1RyhfJ",
        "outputId": "e6d100c3-8989-4f15-be85-7833904f8fc5"
      },
      "execution_count": 38,
      "outputs": [
        {
          "output_type": "execute_result",
          "data": {
            "text/plain": [
              "   points  price\n",
              "0      87   20.0"
            ],
            "text/html": [
              "\n",
              "  <div id=\"df-9a7c406a-5b08-4be3-bf5e-bcf3be3ea1a5\" class=\"colab-df-container\">\n",
              "    <div>\n",
              "<style scoped>\n",
              "    .dataframe tbody tr th:only-of-type {\n",
              "        vertical-align: middle;\n",
              "    }\n",
              "\n",
              "    .dataframe tbody tr th {\n",
              "        vertical-align: top;\n",
              "    }\n",
              "\n",
              "    .dataframe thead th {\n",
              "        text-align: right;\n",
              "    }\n",
              "</style>\n",
              "<table border=\"1\" class=\"dataframe\">\n",
              "  <thead>\n",
              "    <tr style=\"text-align: right;\">\n",
              "      <th></th>\n",
              "      <th>points</th>\n",
              "      <th>price</th>\n",
              "    </tr>\n",
              "  </thead>\n",
              "  <tbody>\n",
              "    <tr>\n",
              "      <th>0</th>\n",
              "      <td>87</td>\n",
              "      <td>20.0</td>\n",
              "    </tr>\n",
              "  </tbody>\n",
              "</table>\n",
              "</div>\n",
              "    <div class=\"colab-df-buttons\">\n",
              "\n",
              "  <div class=\"colab-df-container\">\n",
              "    <button class=\"colab-df-convert\" onclick=\"convertToInteractive('df-9a7c406a-5b08-4be3-bf5e-bcf3be3ea1a5')\"\n",
              "            title=\"Convert this dataframe to an interactive table.\"\n",
              "            style=\"display:none;\">\n",
              "\n",
              "  <svg xmlns=\"http://www.w3.org/2000/svg\" height=\"24px\" viewBox=\"0 -960 960 960\">\n",
              "    <path d=\"M120-120v-720h720v720H120Zm60-500h600v-160H180v160Zm220 220h160v-160H400v160Zm0 220h160v-160H400v160ZM180-400h160v-160H180v160Zm440 0h160v-160H620v160ZM180-180h160v-160H180v160Zm440 0h160v-160H620v160Z\"/>\n",
              "  </svg>\n",
              "    </button>\n",
              "\n",
              "  <style>\n",
              "    .colab-df-container {\n",
              "      display:flex;\n",
              "      gap: 12px;\n",
              "    }\n",
              "\n",
              "    .colab-df-convert {\n",
              "      background-color: #E8F0FE;\n",
              "      border: none;\n",
              "      border-radius: 50%;\n",
              "      cursor: pointer;\n",
              "      display: none;\n",
              "      fill: #1967D2;\n",
              "      height: 32px;\n",
              "      padding: 0 0 0 0;\n",
              "      width: 32px;\n",
              "    }\n",
              "\n",
              "    .colab-df-convert:hover {\n",
              "      background-color: #E2EBFA;\n",
              "      box-shadow: 0px 1px 2px rgba(60, 64, 67, 0.3), 0px 1px 3px 1px rgba(60, 64, 67, 0.15);\n",
              "      fill: #174EA6;\n",
              "    }\n",
              "\n",
              "    .colab-df-buttons div {\n",
              "      margin-bottom: 4px;\n",
              "    }\n",
              "\n",
              "    [theme=dark] .colab-df-convert {\n",
              "      background-color: #3B4455;\n",
              "      fill: #D2E3FC;\n",
              "    }\n",
              "\n",
              "    [theme=dark] .colab-df-convert:hover {\n",
              "      background-color: #434B5C;\n",
              "      box-shadow: 0px 1px 3px 1px rgba(0, 0, 0, 0.15);\n",
              "      filter: drop-shadow(0px 1px 2px rgba(0, 0, 0, 0.3));\n",
              "      fill: #FFFFFF;\n",
              "    }\n",
              "  </style>\n",
              "\n",
              "    <script>\n",
              "      const buttonEl =\n",
              "        document.querySelector('#df-9a7c406a-5b08-4be3-bf5e-bcf3be3ea1a5 button.colab-df-convert');\n",
              "      buttonEl.style.display =\n",
              "        google.colab.kernel.accessAllowed ? 'block' : 'none';\n",
              "\n",
              "      async function convertToInteractive(key) {\n",
              "        const element = document.querySelector('#df-9a7c406a-5b08-4be3-bf5e-bcf3be3ea1a5');\n",
              "        const dataTable =\n",
              "          await google.colab.kernel.invokeFunction('convertToInteractive',\n",
              "                                                    [key], {});\n",
              "        if (!dataTable) return;\n",
              "\n",
              "        const docLinkHtml = 'Like what you see? Visit the ' +\n",
              "          '<a target=\"_blank\" href=https://colab.research.google.com/notebooks/data_table.ipynb>data table notebook</a>'\n",
              "          + ' to learn more about interactive tables.';\n",
              "        element.innerHTML = '';\n",
              "        dataTable['output_type'] = 'display_data';\n",
              "        await google.colab.output.renderOutput(dataTable, element);\n",
              "        const docLink = document.createElement('div');\n",
              "        docLink.innerHTML = docLinkHtml;\n",
              "        element.appendChild(docLink);\n",
              "      }\n",
              "    </script>\n",
              "  </div>\n",
              "\n",
              "    </div>\n",
              "  </div>\n"
            ],
            "application/vnd.google.colaboratory.intrinsic+json": {
              "type": "dataframe",
              "summary": "{\n  \"name\": \"df[['points','price']]\",\n  \"rows\": 1,\n  \"fields\": [\n    {\n      \"column\": \"points\",\n      \"properties\": {\n        \"dtype\": \"number\",\n        \"std\": null,\n        \"min\": 87,\n        \"max\": 87,\n        \"num_unique_values\": 1,\n        \"samples\": [\n          87\n        ],\n        \"semantic_type\": \"\",\n        \"description\": \"\"\n      }\n    },\n    {\n      \"column\": \"price\",\n      \"properties\": {\n        \"dtype\": \"number\",\n        \"std\": null,\n        \"min\": 20.0,\n        \"max\": 20.0,\n        \"num_unique_values\": 1,\n        \"samples\": [\n          20.0\n        ],\n        \"semantic_type\": \"\",\n        \"description\": \"\"\n      }\n    }\n  ]\n}"
            }
          },
          "metadata": {},
          "execution_count": 38
        }
      ]
    },
    {
      "cell_type": "markdown",
      "source": [
        "1. the recurrent most price of wine is 20.0 dollars\n",
        "2. the recurrent most points receive by bottles of wine is 87 points"
      ],
      "metadata": {
        "id": "yonY2Ci6B6nH"
      }
    },
    {
      "cell_type": "markdown",
      "source": [
        "**Question 2** : Measures of spread for Points & Price"
      ],
      "metadata": {
        "id": "k051bU3Mzbef"
      }
    },
    {
      "cell_type": "code",
      "source": [
        "#Q2 Range for price column\n",
        "min_price = df['price'].min()\n",
        "max_price = df['price'].max()\n",
        "\n",
        "range_price = max_price - min_price\n",
        "print(range_price)"
      ],
      "metadata": {
        "colab": {
          "base_uri": "https://localhost:8080/"
        },
        "id": "0x9gDopO-A8T",
        "outputId": "280a648d-a01f-471a-ed8c-04ec8ae6f076"
      },
      "execution_count": 39,
      "outputs": [
        {
          "output_type": "stream",
          "name": "stdout",
          "text": [
            "2296.0\n"
          ]
        }
      ]
    },
    {
      "cell_type": "markdown",
      "source": [
        "The range price is extremely or highly spread out considering the median price"
      ],
      "metadata": {
        "id": "1mXhDQk3Av29"
      }
    },
    {
      "cell_type": "code",
      "source": [
        "#Q2 Range for points column\n",
        "min_point = df['points'].min()\n",
        "max_point = df['points'].max()\n",
        "\n",
        "range_point = max_point - min_point\n",
        "print(range_point)"
      ],
      "metadata": {
        "colab": {
          "base_uri": "https://localhost:8080/"
        },
        "id": "2mT0Favk-s55",
        "outputId": "a06d48de-b90f-467c-fe5f-a13c7b609298"
      },
      "execution_count": 40,
      "outputs": [
        {
          "output_type": "stream",
          "name": "stdout",
          "text": [
            "20\n"
          ]
        }
      ]
    },
    {
      "cell_type": "markdown",
      "source": [
        "The range points is spread far out considering the median price"
      ],
      "metadata": {
        "id": "0DT2OiB9CY0-"
      }
    },
    {
      "cell_type": "code",
      "source": [
        "df[['points','price']].var(ddof=0) # population variance for points and price columns"
      ],
      "metadata": {
        "colab": {
          "base_uri": "https://localhost:8080/"
        },
        "id": "KfosYagRziZY",
        "outputId": "ebfe9ea3-9e3a-4b73-8ed3-013b895c84a9"
      },
      "execution_count": 41,
      "outputs": [
        {
          "output_type": "execute_result",
          "data": {
            "text/plain": [
              "points      10.383740\n",
              "price     1319.317022\n",
              "dtype: float64"
            ]
          },
          "metadata": {},
          "execution_count": 41
        }
      ]
    },
    {
      "cell_type": "markdown",
      "source": [
        "the variance evaluate how far each is around the means. We observe a high value of price variance which means that values are spread far around the mean values and characterise outliers presence."
      ],
      "metadata": {
        "id": "h82zSyUjFHRl"
      }
    },
    {
      "cell_type": "code",
      "source": [
        "df[['points','price']].std(ddof=0) # population standard deviation for points and price columns"
      ],
      "metadata": {
        "colab": {
          "base_uri": "https://localhost:8080/"
        },
        "id": "d7x6a6WW00nP",
        "outputId": "30ecb8c5-ea46-4ebb-946c-22e292f9ed20"
      },
      "execution_count": 43,
      "outputs": [
        {
          "output_type": "execute_result",
          "data": {
            "text/plain": [
              "points     3.222381\n",
              "price     36.322404\n",
              "dtype: float64"
            ]
          },
          "metadata": {},
          "execution_count": 43
        }
      ]
    },
    {
      "cell_type": "markdown",
      "source": [
        "Here we observe a high value of standard deviation for the price which means that we have too much outliers and also means values are highly far around the mean."
      ],
      "metadata": {
        "id": "7-TbYCtYDg-2"
      }
    },
    {
      "cell_type": "markdown",
      "source": [
        "**Question** **3** : Measure of Shape (Skewness & Kurtosis for Points Column)"
      ],
      "metadata": {
        "id": "i3avi8_d2OMi"
      }
    },
    {
      "cell_type": "code",
      "source": [
        "from scipy.stats import skew\n",
        "\n",
        "print(f\"The Skweness of Points Column is: {skew(df['points'])}\")"
      ],
      "metadata": {
        "colab": {
          "base_uri": "https://localhost:8080/"
        },
        "id": "-TL4tgqv2mL9",
        "outputId": "abb43f87-e1aa-4bcf-ed53-907acde3a465"
      },
      "execution_count": 26,
      "outputs": [
        {
          "output_type": "stream",
          "name": "stdout",
          "text": [
            "The Skweness of Points Column is: 0.14283121423675518\n"
          ]
        }
      ]
    },
    {
      "cell_type": "markdown",
      "source": [
        "the value of kweness here is greather than 0 which means that the data is left skewed.(more spread in the left side )"
      ],
      "metadata": {
        "id": "6GgflfFYHt0y"
      }
    },
    {
      "cell_type": "code",
      "source": [
        "from scipy.stats import kurtosis\n",
        "\n",
        "print(f\"The Pearson Kurtosis of Points Column is:{kurtosis(df['points'], fisher=False)}\")\n",
        "print(f\"The Fisher's kurtosis of Points Column is:{kurtosis(df['points'], fisher=True)}\")"
      ],
      "metadata": {
        "colab": {
          "base_uri": "https://localhost:8080/"
        },
        "id": "-u-EoWlJ3GE_",
        "outputId": "52e37bf7-3289-4a46-f460-3dcecfcbf2a1"
      },
      "execution_count": 27,
      "outputs": [
        {
          "output_type": "stream",
          "name": "stdout",
          "text": [
            "The Pearson Kurtosis of Points Column is:2.713553658335501\n",
            "The Fisher's kurtosis of Points Column is:-0.2864463416644991\n"
          ]
        }
      ]
    },
    {
      "cell_type": "markdown",
      "source": [
        "The value of kurtosis here means that the dataset has heavy based outliers"
      ],
      "metadata": {
        "id": "Nxf65dfDG1VZ"
      }
    },
    {
      "cell_type": "markdown",
      "source": [
        "**Question 4** : Evaluation of the Z-score for Points Column"
      ],
      "metadata": {
        "id": "MzLKAE_44Vhi"
      }
    },
    {
      "cell_type": "code",
      "source": [
        "from scipy.stats import zscore\n",
        "\n",
        "print(f\"{zscore(df['points'])}\")"
      ],
      "metadata": {
        "colab": {
          "base_uri": "https://localhost:8080/"
        },
        "id": "B-UrbkZT4bi8",
        "outputId": "5faa6faf-05ff-4ad5-9aba-1733dd28fd34"
      },
      "execution_count": 44,
      "outputs": [
        {
          "output_type": "stream",
          "name": "stdout",
          "text": [
            "0         2.517263\n",
            "1         2.517263\n",
            "2         2.517263\n",
            "3         2.517263\n",
            "4         2.206934\n",
            "            ...   \n",
            "150925    0.965616\n",
            "150926    0.965616\n",
            "150927    0.965616\n",
            "150928    0.655286\n",
            "150929    0.655286\n",
            "Name: points, Length: 150930, dtype: float64\n"
          ]
        }
      ]
    },
    {
      "cell_type": "code",
      "source": [
        "from sklearn.preprocessing import StandardScaler\n",
        "ss = StandardScaler()\n",
        "ss.fit_transform(df['points'].values.reshape(-1,1))"
      ],
      "metadata": {
        "colab": {
          "base_uri": "https://localhost:8080/"
        },
        "id": "axlLzEbY5Rcs",
        "outputId": "689c9daf-c969-40ef-b145-73bfb40057ec"
      },
      "execution_count": 32,
      "outputs": [
        {
          "output_type": "execute_result",
          "data": {
            "text/plain": [
              "array([[2.51726326],\n",
              "       [2.51726326],\n",
              "       [2.51726326],\n",
              "       ...,\n",
              "       [0.96561563],\n",
              "       [0.6552861 ],\n",
              "       [0.6552861 ]])"
            ]
          },
          "metadata": {},
          "execution_count": 32
        }
      ]
    },
    {
      "cell_type": "markdown",
      "source": [
        "The IQR for Points Column"
      ],
      "metadata": {
        "id": "h2g8viH05dVW"
      }
    },
    {
      "cell_type": "code",
      "source": [
        "from scipy.stats import iqr\n",
        "\n",
        "print(f\"The IQR is : {iqr(df['points'])}\")"
      ],
      "metadata": {
        "colab": {
          "base_uri": "https://localhost:8080/"
        },
        "id": "LI_YvBby5irr",
        "outputId": "01b8eac4-d881-4838-fcf6-bc2508488191"
      },
      "execution_count": 35,
      "outputs": [
        {
          "output_type": "stream",
          "name": "stdout",
          "text": [
            "The IQR is : 4.0\n"
          ]
        }
      ]
    },
    {
      "cell_type": "markdown",
      "source": [
        "The IQR = Q3 - Q1 is too much robust( high ) which indicate large dispersion of data a outliers presence."
      ],
      "metadata": {
        "id": "cuoW1R_gJhLj"
      }
    }
  ]
}