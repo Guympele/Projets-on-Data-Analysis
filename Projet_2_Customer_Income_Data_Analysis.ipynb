{
  "nbformat": 4,
  "nbformat_minor": 0,
  "metadata": {
    "colab": {
      "provenance": [],
      "authorship_tag": "ABX9TyNR7q8jDFbqnRskpbqN1SiK",
      "include_colab_link": true
    },
    "kernelspec": {
      "name": "python3",
      "display_name": "Python 3"
    },
    "language_info": {
      "name": "python"
    }
  },
  "cells": [
    {
      "cell_type": "markdown",
      "metadata": {
        "id": "view-in-github",
        "colab_type": "text"
      },
      "source": [
        "<a href=\"https://colab.research.google.com/github/Guympele/Projets-on-Data-Analysis/blob/Data-sets-analysis/Projet_2_Customer_Income_Data_Analysis.ipynb\" target=\"_parent\"><img src=\"https://colab.research.google.com/assets/colab-badge.svg\" alt=\"Open In Colab\"/></a>"
      ]
    },
    {
      "cell_type": "code",
      "execution_count": 11,
      "metadata": {
        "colab": {
          "base_uri": "https://localhost:8080/"
        },
        "id": "D-wIUnwrkt6c",
        "outputId": "db54802f-44d4-4a2f-d249-67e263924e53"
      },
      "outputs": [
        {
          "output_type": "stream",
          "name": "stdout",
          "text": [
            "--2024-04-06 07:26:54--  https://www.dropbox.com/s/wnlg2hmr3pfc4hu/STAT%20S01V17.zip\n",
            "Resolving www.dropbox.com (www.dropbox.com)... 162.125.2.18, 2620:100:6017:18::a27d:212\n",
            "Connecting to www.dropbox.com (www.dropbox.com)|162.125.2.18|:443... connected.\n",
            "HTTP request sent, awaiting response... 302 Found\n",
            "Location: /s/raw/wnlg2hmr3pfc4hu/STAT%20S01V17.zip [following]\n",
            "--2024-04-06 07:26:54--  https://www.dropbox.com/s/raw/wnlg2hmr3pfc4hu/STAT%20S01V17.zip\n",
            "Reusing existing connection to www.dropbox.com:443.\n",
            "HTTP request sent, awaiting response... 302 Found\n",
            "Location: https://uc892a95cf46a1718348b91d74ac.dl.dropboxusercontent.com/cd/0/inline/CQdB-qS9Fp6Qa_I4wpgOwp-LUeyemspCcKY4N7c_agVX0WLARusQqCpYq3ylzCV_Tamja1MOa635DfNiSwpj45r1h5P8FNlM85c0avxWQklqPNvDtlaUfkVhDXgusxjSlXWE1uqNCLwAO57vKXLSSFFW/file# [following]\n",
            "--2024-04-06 07:26:54--  https://uc892a95cf46a1718348b91d74ac.dl.dropboxusercontent.com/cd/0/inline/CQdB-qS9Fp6Qa_I4wpgOwp-LUeyemspCcKY4N7c_agVX0WLARusQqCpYq3ylzCV_Tamja1MOa635DfNiSwpj45r1h5P8FNlM85c0avxWQklqPNvDtlaUfkVhDXgusxjSlXWE1uqNCLwAO57vKXLSSFFW/file\n",
            "Resolving uc892a95cf46a1718348b91d74ac.dl.dropboxusercontent.com (uc892a95cf46a1718348b91d74ac.dl.dropboxusercontent.com)... 162.125.2.15, 2620:100:6017:15::a27d:20f\n",
            "Connecting to uc892a95cf46a1718348b91d74ac.dl.dropboxusercontent.com (uc892a95cf46a1718348b91d74ac.dl.dropboxusercontent.com)|162.125.2.15|:443... connected.\n",
            "HTTP request sent, awaiting response... 302 Found\n",
            "Location: /cd/0/inline2/CQdS1wBOrJa_n2quRGgURAQL5Mm-lVvS28tKTs5QLEp-ovWyXA6VXYNSCmVmUGczbjVDljaaQZNnYraKNL16C7WW1JL2AAgRvywidaBfZqdFz7S7QQ7vgLYMNpT1J3kLdLgcQLS8O-H4w2BlU4L2O3upVyI7Rp1XsairaOpIndjX1uIQd24zKLvussFHlbd3qE8mNtg-1A4_yBw-BJ6kJInYzkVPk7fyOMTy9tB57m2ke0BXdbFeualHMvL7WkyrNfQl1vY7255qaWk4XM8OnksNJujL6t7rR79shFWBaBNflCQEMJtYfEmeZmVmRCOYFb39T1mPHMA8uaSMm4eU0_d46JgJdLJ8tPLVbXVro2kUEE3KxHdsVESA76DlXAKeNgQ/file [following]\n",
            "--2024-04-06 07:26:55--  https://uc892a95cf46a1718348b91d74ac.dl.dropboxusercontent.com/cd/0/inline2/CQdS1wBOrJa_n2quRGgURAQL5Mm-lVvS28tKTs5QLEp-ovWyXA6VXYNSCmVmUGczbjVDljaaQZNnYraKNL16C7WW1JL2AAgRvywidaBfZqdFz7S7QQ7vgLYMNpT1J3kLdLgcQLS8O-H4w2BlU4L2O3upVyI7Rp1XsairaOpIndjX1uIQd24zKLvussFHlbd3qE8mNtg-1A4_yBw-BJ6kJInYzkVPk7fyOMTy9tB57m2ke0BXdbFeualHMvL7WkyrNfQl1vY7255qaWk4XM8OnksNJujL6t7rR79shFWBaBNflCQEMJtYfEmeZmVmRCOYFb39T1mPHMA8uaSMm4eU0_d46JgJdLJ8tPLVbXVro2kUEE3KxHdsVESA76DlXAKeNgQ/file\n",
            "Reusing existing connection to uc892a95cf46a1718348b91d74ac.dl.dropboxusercontent.com:443.\n",
            "HTTP request sent, awaiting response... 200 OK\n",
            "Length: 3667 (3.6K) [application/zip]\n",
            "Saving to: ‘STAT S01V17.zip’\n",
            "\n",
            "STAT S01V17.zip     100%[===================>]   3.58K  --.-KB/s    in 0s      \n",
            "\n",
            "2024-04-06 07:26:55 (2.33 GB/s) - ‘STAT S01V17.zip’ saved [3667/3667]\n",
            "\n",
            "Archive:  STAT S01V17.zip\n",
            "  inflating: customer_income_data.csv  \n"
          ]
        }
      ],
      "source": [
        "!wget https://www.dropbox.com/s/wnlg2hmr3pfc4hu/STAT%20S01V17.zip\n",
        "!unzip  \"STAT S01V17.zip\""
      ]
    },
    {
      "cell_type": "code",
      "source": [
        "import pandas as pd\n",
        "import numpy as np\n",
        "import matplotlib.pyplot as plt"
      ],
      "metadata": {
        "id": "psgTSgp6q5BH"
      },
      "execution_count": 12,
      "outputs": []
    },
    {
      "cell_type": "code",
      "source": [
        "df = pd.read_csv(\"customer_income_data.csv\")\n",
        "df.head()"
      ],
      "metadata": {
        "colab": {
          "base_uri": "https://localhost:8080/",
          "height": 206
        },
        "id": "4EqWP863rLFu",
        "outputId": "93f25f26-32a4-47f8-b97c-0d5f11b3ea27"
      },
      "execution_count": 28,
      "outputs": [
        {
          "output_type": "execute_result",
          "data": {
            "text/plain": [
              "   CustomerID CustomerGender  CustomerAge CustomerCity  AnnualIncome  \\\n",
              "0        1001           Male           49    Bengaluru  527547.58850   \n",
              "1        1002           Male           59    Bengaluru  207143.19760   \n",
              "2        1003         Female           54        Delhi  164423.84570   \n",
              "3        1004         Female           42    Bengaluru   56220.36443   \n",
              "4        1005         Female           30    Bengaluru  256194.36190   \n",
              "\n",
              "   CreditScore  SpendingScore  CustomerCityID  \n",
              "0          653             78               1  \n",
              "1          630             63               1  \n",
              "2          555             69               4  \n",
              "3          699             30               1  \n",
              "4          793              6               1  "
            ],
            "text/html": [
              "\n",
              "  <div id=\"df-feca8815-d6cf-4f34-b490-e40d041ac3e8\" class=\"colab-df-container\">\n",
              "    <div>\n",
              "<style scoped>\n",
              "    .dataframe tbody tr th:only-of-type {\n",
              "        vertical-align: middle;\n",
              "    }\n",
              "\n",
              "    .dataframe tbody tr th {\n",
              "        vertical-align: top;\n",
              "    }\n",
              "\n",
              "    .dataframe thead th {\n",
              "        text-align: right;\n",
              "    }\n",
              "</style>\n",
              "<table border=\"1\" class=\"dataframe\">\n",
              "  <thead>\n",
              "    <tr style=\"text-align: right;\">\n",
              "      <th></th>\n",
              "      <th>CustomerID</th>\n",
              "      <th>CustomerGender</th>\n",
              "      <th>CustomerAge</th>\n",
              "      <th>CustomerCity</th>\n",
              "      <th>AnnualIncome</th>\n",
              "      <th>CreditScore</th>\n",
              "      <th>SpendingScore</th>\n",
              "      <th>CustomerCityID</th>\n",
              "    </tr>\n",
              "  </thead>\n",
              "  <tbody>\n",
              "    <tr>\n",
              "      <th>0</th>\n",
              "      <td>1001</td>\n",
              "      <td>Male</td>\n",
              "      <td>49</td>\n",
              "      <td>Bengaluru</td>\n",
              "      <td>527547.58850</td>\n",
              "      <td>653</td>\n",
              "      <td>78</td>\n",
              "      <td>1</td>\n",
              "    </tr>\n",
              "    <tr>\n",
              "      <th>1</th>\n",
              "      <td>1002</td>\n",
              "      <td>Male</td>\n",
              "      <td>59</td>\n",
              "      <td>Bengaluru</td>\n",
              "      <td>207143.19760</td>\n",
              "      <td>630</td>\n",
              "      <td>63</td>\n",
              "      <td>1</td>\n",
              "    </tr>\n",
              "    <tr>\n",
              "      <th>2</th>\n",
              "      <td>1003</td>\n",
              "      <td>Female</td>\n",
              "      <td>54</td>\n",
              "      <td>Delhi</td>\n",
              "      <td>164423.84570</td>\n",
              "      <td>555</td>\n",
              "      <td>69</td>\n",
              "      <td>4</td>\n",
              "    </tr>\n",
              "    <tr>\n",
              "      <th>3</th>\n",
              "      <td>1004</td>\n",
              "      <td>Female</td>\n",
              "      <td>42</td>\n",
              "      <td>Bengaluru</td>\n",
              "      <td>56220.36443</td>\n",
              "      <td>699</td>\n",
              "      <td>30</td>\n",
              "      <td>1</td>\n",
              "    </tr>\n",
              "    <tr>\n",
              "      <th>4</th>\n",
              "      <td>1005</td>\n",
              "      <td>Female</td>\n",
              "      <td>30</td>\n",
              "      <td>Bengaluru</td>\n",
              "      <td>256194.36190</td>\n",
              "      <td>793</td>\n",
              "      <td>6</td>\n",
              "      <td>1</td>\n",
              "    </tr>\n",
              "  </tbody>\n",
              "</table>\n",
              "</div>\n",
              "    <div class=\"colab-df-buttons\">\n",
              "\n",
              "  <div class=\"colab-df-container\">\n",
              "    <button class=\"colab-df-convert\" onclick=\"convertToInteractive('df-feca8815-d6cf-4f34-b490-e40d041ac3e8')\"\n",
              "            title=\"Convert this dataframe to an interactive table.\"\n",
              "            style=\"display:none;\">\n",
              "\n",
              "  <svg xmlns=\"http://www.w3.org/2000/svg\" height=\"24px\" viewBox=\"0 -960 960 960\">\n",
              "    <path d=\"M120-120v-720h720v720H120Zm60-500h600v-160H180v160Zm220 220h160v-160H400v160Zm0 220h160v-160H400v160ZM180-400h160v-160H180v160Zm440 0h160v-160H620v160ZM180-180h160v-160H180v160Zm440 0h160v-160H620v160Z\"/>\n",
              "  </svg>\n",
              "    </button>\n",
              "\n",
              "  <style>\n",
              "    .colab-df-container {\n",
              "      display:flex;\n",
              "      gap: 12px;\n",
              "    }\n",
              "\n",
              "    .colab-df-convert {\n",
              "      background-color: #E8F0FE;\n",
              "      border: none;\n",
              "      border-radius: 50%;\n",
              "      cursor: pointer;\n",
              "      display: none;\n",
              "      fill: #1967D2;\n",
              "      height: 32px;\n",
              "      padding: 0 0 0 0;\n",
              "      width: 32px;\n",
              "    }\n",
              "\n",
              "    .colab-df-convert:hover {\n",
              "      background-color: #E2EBFA;\n",
              "      box-shadow: 0px 1px 2px rgba(60, 64, 67, 0.3), 0px 1px 3px 1px rgba(60, 64, 67, 0.15);\n",
              "      fill: #174EA6;\n",
              "    }\n",
              "\n",
              "    .colab-df-buttons div {\n",
              "      margin-bottom: 4px;\n",
              "    }\n",
              "\n",
              "    [theme=dark] .colab-df-convert {\n",
              "      background-color: #3B4455;\n",
              "      fill: #D2E3FC;\n",
              "    }\n",
              "\n",
              "    [theme=dark] .colab-df-convert:hover {\n",
              "      background-color: #434B5C;\n",
              "      box-shadow: 0px 1px 3px 1px rgba(0, 0, 0, 0.15);\n",
              "      filter: drop-shadow(0px 1px 2px rgba(0, 0, 0, 0.3));\n",
              "      fill: #FFFFFF;\n",
              "    }\n",
              "  </style>\n",
              "\n",
              "    <script>\n",
              "      const buttonEl =\n",
              "        document.querySelector('#df-feca8815-d6cf-4f34-b490-e40d041ac3e8 button.colab-df-convert');\n",
              "      buttonEl.style.display =\n",
              "        google.colab.kernel.accessAllowed ? 'block' : 'none';\n",
              "\n",
              "      async function convertToInteractive(key) {\n",
              "        const element = document.querySelector('#df-feca8815-d6cf-4f34-b490-e40d041ac3e8');\n",
              "        const dataTable =\n",
              "          await google.colab.kernel.invokeFunction('convertToInteractive',\n",
              "                                                    [key], {});\n",
              "        if (!dataTable) return;\n",
              "\n",
              "        const docLinkHtml = 'Like what you see? Visit the ' +\n",
              "          '<a target=\"_blank\" href=https://colab.research.google.com/notebooks/data_table.ipynb>data table notebook</a>'\n",
              "          + ' to learn more about interactive tables.';\n",
              "        element.innerHTML = '';\n",
              "        dataTable['output_type'] = 'display_data';\n",
              "        await google.colab.output.renderOutput(dataTable, element);\n",
              "        const docLink = document.createElement('div');\n",
              "        docLink.innerHTML = docLinkHtml;\n",
              "        element.appendChild(docLink);\n",
              "      }\n",
              "    </script>\n",
              "  </div>\n",
              "\n",
              "\n",
              "<div id=\"df-bd0001c5-c711-4390-8f38-129399f49a37\">\n",
              "  <button class=\"colab-df-quickchart\" onclick=\"quickchart('df-bd0001c5-c711-4390-8f38-129399f49a37')\"\n",
              "            title=\"Suggest charts\"\n",
              "            style=\"display:none;\">\n",
              "\n",
              "<svg xmlns=\"http://www.w3.org/2000/svg\" height=\"24px\"viewBox=\"0 0 24 24\"\n",
              "     width=\"24px\">\n",
              "    <g>\n",
              "        <path d=\"M19 3H5c-1.1 0-2 .9-2 2v14c0 1.1.9 2 2 2h14c1.1 0 2-.9 2-2V5c0-1.1-.9-2-2-2zM9 17H7v-7h2v7zm4 0h-2V7h2v10zm4 0h-2v-4h2v4z\"/>\n",
              "    </g>\n",
              "</svg>\n",
              "  </button>\n",
              "\n",
              "<style>\n",
              "  .colab-df-quickchart {\n",
              "      --bg-color: #E8F0FE;\n",
              "      --fill-color: #1967D2;\n",
              "      --hover-bg-color: #E2EBFA;\n",
              "      --hover-fill-color: #174EA6;\n",
              "      --disabled-fill-color: #AAA;\n",
              "      --disabled-bg-color: #DDD;\n",
              "  }\n",
              "\n",
              "  [theme=dark] .colab-df-quickchart {\n",
              "      --bg-color: #3B4455;\n",
              "      --fill-color: #D2E3FC;\n",
              "      --hover-bg-color: #434B5C;\n",
              "      --hover-fill-color: #FFFFFF;\n",
              "      --disabled-bg-color: #3B4455;\n",
              "      --disabled-fill-color: #666;\n",
              "  }\n",
              "\n",
              "  .colab-df-quickchart {\n",
              "    background-color: var(--bg-color);\n",
              "    border: none;\n",
              "    border-radius: 50%;\n",
              "    cursor: pointer;\n",
              "    display: none;\n",
              "    fill: var(--fill-color);\n",
              "    height: 32px;\n",
              "    padding: 0;\n",
              "    width: 32px;\n",
              "  }\n",
              "\n",
              "  .colab-df-quickchart:hover {\n",
              "    background-color: var(--hover-bg-color);\n",
              "    box-shadow: 0 1px 2px rgba(60, 64, 67, 0.3), 0 1px 3px 1px rgba(60, 64, 67, 0.15);\n",
              "    fill: var(--button-hover-fill-color);\n",
              "  }\n",
              "\n",
              "  .colab-df-quickchart-complete:disabled,\n",
              "  .colab-df-quickchart-complete:disabled:hover {\n",
              "    background-color: var(--disabled-bg-color);\n",
              "    fill: var(--disabled-fill-color);\n",
              "    box-shadow: none;\n",
              "  }\n",
              "\n",
              "  .colab-df-spinner {\n",
              "    border: 2px solid var(--fill-color);\n",
              "    border-color: transparent;\n",
              "    border-bottom-color: var(--fill-color);\n",
              "    animation:\n",
              "      spin 1s steps(1) infinite;\n",
              "  }\n",
              "\n",
              "  @keyframes spin {\n",
              "    0% {\n",
              "      border-color: transparent;\n",
              "      border-bottom-color: var(--fill-color);\n",
              "      border-left-color: var(--fill-color);\n",
              "    }\n",
              "    20% {\n",
              "      border-color: transparent;\n",
              "      border-left-color: var(--fill-color);\n",
              "      border-top-color: var(--fill-color);\n",
              "    }\n",
              "    30% {\n",
              "      border-color: transparent;\n",
              "      border-left-color: var(--fill-color);\n",
              "      border-top-color: var(--fill-color);\n",
              "      border-right-color: var(--fill-color);\n",
              "    }\n",
              "    40% {\n",
              "      border-color: transparent;\n",
              "      border-right-color: var(--fill-color);\n",
              "      border-top-color: var(--fill-color);\n",
              "    }\n",
              "    60% {\n",
              "      border-color: transparent;\n",
              "      border-right-color: var(--fill-color);\n",
              "    }\n",
              "    80% {\n",
              "      border-color: transparent;\n",
              "      border-right-color: var(--fill-color);\n",
              "      border-bottom-color: var(--fill-color);\n",
              "    }\n",
              "    90% {\n",
              "      border-color: transparent;\n",
              "      border-bottom-color: var(--fill-color);\n",
              "    }\n",
              "  }\n",
              "</style>\n",
              "\n",
              "  <script>\n",
              "    async function quickchart(key) {\n",
              "      const quickchartButtonEl =\n",
              "        document.querySelector('#' + key + ' button');\n",
              "      quickchartButtonEl.disabled = true;  // To prevent multiple clicks.\n",
              "      quickchartButtonEl.classList.add('colab-df-spinner');\n",
              "      try {\n",
              "        const charts = await google.colab.kernel.invokeFunction(\n",
              "            'suggestCharts', [key], {});\n",
              "      } catch (error) {\n",
              "        console.error('Error during call to suggestCharts:', error);\n",
              "      }\n",
              "      quickchartButtonEl.classList.remove('colab-df-spinner');\n",
              "      quickchartButtonEl.classList.add('colab-df-quickchart-complete');\n",
              "    }\n",
              "    (() => {\n",
              "      let quickchartButtonEl =\n",
              "        document.querySelector('#df-bd0001c5-c711-4390-8f38-129399f49a37 button');\n",
              "      quickchartButtonEl.style.display =\n",
              "        google.colab.kernel.accessAllowed ? 'block' : 'none';\n",
              "    })();\n",
              "  </script>\n",
              "</div>\n",
              "    </div>\n",
              "  </div>\n"
            ],
            "application/vnd.google.colaboratory.intrinsic+json": {
              "type": "dataframe",
              "variable_name": "df",
              "summary": "{\n  \"name\": \"df\",\n  \"rows\": 200,\n  \"fields\": [\n    {\n      \"column\": \"CustomerID\",\n      \"properties\": {\n        \"dtype\": \"number\",\n        \"std\": 57,\n        \"min\": 1001,\n        \"max\": 1200,\n        \"num_unique_values\": 200,\n        \"samples\": [\n          1096,\n          1016,\n          1031\n        ],\n        \"semantic_type\": \"\",\n        \"description\": \"\"\n      }\n    },\n    {\n      \"column\": \"CustomerGender\",\n      \"properties\": {\n        \"dtype\": \"category\",\n        \"num_unique_values\": 2,\n        \"samples\": [\n          \"Female\",\n          \"Male\"\n        ],\n        \"semantic_type\": \"\",\n        \"description\": \"\"\n      }\n    },\n    {\n      \"column\": \"CustomerAge\",\n      \"properties\": {\n        \"dtype\": \"number\",\n        \"std\": 16,\n        \"min\": 18,\n        \"max\": 75,\n        \"num_unique_values\": 58,\n        \"samples\": [\n          49,\n          38\n        ],\n        \"semantic_type\": \"\",\n        \"description\": \"\"\n      }\n    },\n    {\n      \"column\": \"CustomerCity\",\n      \"properties\": {\n        \"dtype\": \"category\",\n        \"num_unique_values\": 5,\n        \"samples\": [\n          \"Delhi\",\n          \"Kolkata\"\n        ],\n        \"semantic_type\": \"\",\n        \"description\": \"\"\n      }\n    },\n    {\n      \"column\": \"AnnualIncome\",\n      \"properties\": {\n        \"dtype\": \"number\",\n        \"std\": 169229.18761929253,\n        \"min\": 2577.057456,\n        \"max\": 695407.0917,\n        \"num_unique_values\": 200,\n        \"samples\": [\n          98951.52835,\n          342386.7743\n        ],\n        \"semantic_type\": \"\",\n        \"description\": \"\"\n      }\n    },\n    {\n      \"column\": \"CreditScore\",\n      \"properties\": {\n        \"dtype\": \"number\",\n        \"std\": 104,\n        \"min\": 551,\n        \"max\": 897,\n        \"num_unique_values\": 151,\n        \"samples\": [\n          738,\n          817\n        ],\n        \"semantic_type\": \"\",\n        \"description\": \"\"\n      }\n    },\n    {\n      \"column\": \"SpendingScore\",\n      \"properties\": {\n        \"dtype\": \"number\",\n        \"std\": 28,\n        \"min\": 2,\n        \"max\": 100,\n        \"num_unique_values\": 87,\n        \"samples\": [\n          7,\n          78\n        ],\n        \"semantic_type\": \"\",\n        \"description\": \"\"\n      }\n    },\n    {\n      \"column\": \"CustomerCityID\",\n      \"properties\": {\n        \"dtype\": \"number\",\n        \"std\": 1,\n        \"min\": 1,\n        \"max\": 5,\n        \"num_unique_values\": 5,\n        \"samples\": [\n          4,\n          3\n        ],\n        \"semantic_type\": \"\",\n        \"description\": \"\"\n      }\n    }\n  ]\n}"
            }
          },
          "metadata": {},
          "execution_count": 28
        }
      ]
    },
    {
      "cell_type": "markdown",
      "source": [
        "**Task 1**: Check for NullValues and Drop them"
      ],
      "metadata": {
        "id": "19DFxqtfrm1S"
      }
    },
    {
      "cell_type": "code",
      "source": [
        "# Check for null values\n",
        "print(\"Null values before dropping:\\n\", df.isnull().sum())"
      ],
      "metadata": {
        "colab": {
          "base_uri": "https://localhost:8080/"
        },
        "id": "ZqKLgPFjrysR",
        "outputId": "3a36c9fc-528b-47b6-d984-aef3b3fb17d0"
      },
      "execution_count": 29,
      "outputs": [
        {
          "output_type": "stream",
          "name": "stdout",
          "text": [
            "Null values before dropping:\n",
            " CustomerID        0\n",
            "CustomerGender    0\n",
            "CustomerAge       0\n",
            "CustomerCity      0\n",
            "AnnualIncome      0\n",
            "CreditScore       0\n",
            "SpendingScore     0\n",
            "CustomerCityID    0\n",
            "dtype: int64\n"
          ]
        }
      ]
    },
    {
      "cell_type": "markdown",
      "source": [
        "We observe that we don't have Null Values in our dataset"
      ],
      "metadata": {
        "id": "1DfeXrzmBG9F"
      }
    },
    {
      "cell_type": "markdown",
      "source": [
        "**Task** **2** : Measures of Central Tendency for Annual Income Column of Customers"
      ],
      "metadata": {
        "id": "fLt56-W6t0li"
      }
    },
    {
      "cell_type": "code",
      "source": [
        "# Mean Value\n",
        "df[['AnnualIncome','SpendingScore']].mean()"
      ],
      "metadata": {
        "colab": {
          "base_uri": "https://localhost:8080/"
        },
        "id": "RiEiWTRCuFrC",
        "outputId": "a8f11322-4918-4408-f843-fb239bf7293a"
      },
      "execution_count": 37,
      "outputs": [
        {
          "output_type": "execute_result",
          "data": {
            "text/plain": [
              "AnnualIncome     285143.931646\n",
              "SpendingScore        50.705000\n",
              "dtype: float64"
            ]
          },
          "metadata": {},
          "execution_count": 37
        }
      ]
    },
    {
      "cell_type": "code",
      "source": [
        "# Median Value\n",
        "df[['AnnualIncome','SpendingScore']].median()"
      ],
      "metadata": {
        "colab": {
          "base_uri": "https://localhost:8080/"
        },
        "id": "eGzHzOBavfy7",
        "outputId": "889e0960-3e1c-4621-f5bf-c59f5cf6218e"
      },
      "execution_count": 38,
      "outputs": [
        {
          "output_type": "execute_result",
          "data": {
            "text/plain": [
              "AnnualIncome     263418.50555\n",
              "SpendingScore        48.00000\n",
              "dtype: float64"
            ]
          },
          "metadata": {},
          "execution_count": 38
        }
      ]
    },
    {
      "cell_type": "code",
      "source": [
        "# Mode Value\n",
        "df['AnnualIncome'].mode()"
      ],
      "metadata": {
        "colab": {
          "base_uri": "https://localhost:8080/"
        },
        "id": "FcwOKS5Cv3cy",
        "outputId": "723b6950-db3c-4150-f646-4998b5613c6d"
      },
      "execution_count": 40,
      "outputs": [
        {
          "output_type": "execute_result",
          "data": {
            "text/plain": [
              "0        2577.057456\n",
              "1        5121.652342\n",
              "2       10349.414070\n",
              "3       12396.061280\n",
              "4       15305.842870\n",
              "           ...      \n",
              "195    651534.309800\n",
              "196    671028.187200\n",
              "197    675461.735700\n",
              "198    687212.770700\n",
              "199    695407.091700\n",
              "Name: AnnualIncome, Length: 200, dtype: float64"
            ]
          },
          "metadata": {},
          "execution_count": 40
        }
      ]
    },
    {
      "cell_type": "markdown",
      "source": [
        "**Task** **3** : Measures of dispersion and Shape for the spending Scores Column ( Variance, standard deviation and Skewness )"
      ],
      "metadata": {
        "id": "rAg-NPwMwjCK"
      }
    },
    {
      "cell_type": "code",
      "source": [
        "# Variance Value\n",
        "df['SpendingScore'].var(ddof=0)"
      ],
      "metadata": {
        "colab": {
          "base_uri": "https://localhost:8080/"
        },
        "id": "THena9QhxTFj",
        "outputId": "b1c9f227-fd26-4ca0-a618-6d2a6423eb0d"
      },
      "execution_count": 21,
      "outputs": [
        {
          "output_type": "execute_result",
          "data": {
            "text/plain": [
              "820.867975"
            ]
          },
          "metadata": {},
          "execution_count": 21
        }
      ]
    },
    {
      "cell_type": "code",
      "source": [
        "# Standard Deviation Value\n",
        "df[\"SpendingScore\"].std(ddof=0)"
      ],
      "metadata": {
        "colab": {
          "base_uri": "https://localhost:8080/"
        },
        "id": "clQFgiPaxvPC",
        "outputId": "7889c54a-b684-4503-a442-cfd53be3de81"
      },
      "execution_count": 22,
      "outputs": [
        {
          "output_type": "execute_result",
          "data": {
            "text/plain": [
              "28.650793619025634"
            ]
          },
          "metadata": {},
          "execution_count": 22
        }
      ]
    },
    {
      "cell_type": "code",
      "source": [
        "# Skewness Value\n",
        "from scipy.stats import skew\n",
        "print(f\"The skewness of the spending score of customers is :{skew(df['SpendingScore'])}\")"
      ],
      "metadata": {
        "colab": {
          "base_uri": "https://localhost:8080/"
        },
        "id": "Q9uJyep1x-aC",
        "outputId": "4f57bdc6-869a-4784-ec7a-9772830623df"
      },
      "execution_count": 24,
      "outputs": [
        {
          "output_type": "stream",
          "name": "stdout",
          "text": [
            "The skewness of the spending score of customers is :0.10081837365183154\n"
          ]
        }
      ]
    },
    {
      "cell_type": "markdown",
      "source": [
        "Since that the skew value is 0.10081837365183154 > 0, We have Left skewed Data."
      ],
      "metadata": {
        "id": "4LqX0wX1B6b9"
      }
    },
    {
      "cell_type": "markdown",
      "source": [
        "**Task** **4** : Evaluation of the Z-Score for the Annual Income and The Spending Score for Customers to detect Outliers."
      ],
      "metadata": {
        "id": "v-PxQNZAzHfr"
      }
    },
    {
      "cell_type": "code",
      "source": [
        "from scipy.stats import zscore\n",
        "# Assuming that our dta follow the normal distribution\n",
        "z = np.abs(zscore(df[['AnnualIncome','SpendingScore']]))\n",
        "z"
      ],
      "metadata": {
        "colab": {
          "base_uri": "https://localhost:8080/",
          "height": 424
        },
        "id": "8wqwQvpYzj6t",
        "outputId": "7b78ea31-6e76-452d-86f8-3bade6925790"
      },
      "execution_count": 33,
      "outputs": [
        {
          "output_type": "execute_result",
          "data": {
            "text/plain": [
              "     AnnualIncome  SpendingScore\n",
              "0        1.435993       0.952679\n",
              "1        0.462074       0.429133\n",
              "2        0.715143       0.638551\n",
              "3        1.356137       0.722668\n",
              "4        0.171497       1.560341\n",
              "..            ...            ...\n",
              "195      0.191478       0.045199\n",
              "196      0.226068       0.254618\n",
              "197      1.043125       0.513249\n",
              "198      0.740657       0.932086\n",
              "199      0.029990       0.687765\n",
              "\n",
              "[200 rows x 2 columns]"
            ],
            "text/html": [
              "\n",
              "  <div id=\"df-e964ec2b-983f-43cd-ac4e-440e3f37f147\" class=\"colab-df-container\">\n",
              "    <div>\n",
              "<style scoped>\n",
              "    .dataframe tbody tr th:only-of-type {\n",
              "        vertical-align: middle;\n",
              "    }\n",
              "\n",
              "    .dataframe tbody tr th {\n",
              "        vertical-align: top;\n",
              "    }\n",
              "\n",
              "    .dataframe thead th {\n",
              "        text-align: right;\n",
              "    }\n",
              "</style>\n",
              "<table border=\"1\" class=\"dataframe\">\n",
              "  <thead>\n",
              "    <tr style=\"text-align: right;\">\n",
              "      <th></th>\n",
              "      <th>AnnualIncome</th>\n",
              "      <th>SpendingScore</th>\n",
              "    </tr>\n",
              "  </thead>\n",
              "  <tbody>\n",
              "    <tr>\n",
              "      <th>0</th>\n",
              "      <td>1.435993</td>\n",
              "      <td>0.952679</td>\n",
              "    </tr>\n",
              "    <tr>\n",
              "      <th>1</th>\n",
              "      <td>0.462074</td>\n",
              "      <td>0.429133</td>\n",
              "    </tr>\n",
              "    <tr>\n",
              "      <th>2</th>\n",
              "      <td>0.715143</td>\n",
              "      <td>0.638551</td>\n",
              "    </tr>\n",
              "    <tr>\n",
              "      <th>3</th>\n",
              "      <td>1.356137</td>\n",
              "      <td>0.722668</td>\n",
              "    </tr>\n",
              "    <tr>\n",
              "      <th>4</th>\n",
              "      <td>0.171497</td>\n",
              "      <td>1.560341</td>\n",
              "    </tr>\n",
              "    <tr>\n",
              "      <th>...</th>\n",
              "      <td>...</td>\n",
              "      <td>...</td>\n",
              "    </tr>\n",
              "    <tr>\n",
              "      <th>195</th>\n",
              "      <td>0.191478</td>\n",
              "      <td>0.045199</td>\n",
              "    </tr>\n",
              "    <tr>\n",
              "      <th>196</th>\n",
              "      <td>0.226068</td>\n",
              "      <td>0.254618</td>\n",
              "    </tr>\n",
              "    <tr>\n",
              "      <th>197</th>\n",
              "      <td>1.043125</td>\n",
              "      <td>0.513249</td>\n",
              "    </tr>\n",
              "    <tr>\n",
              "      <th>198</th>\n",
              "      <td>0.740657</td>\n",
              "      <td>0.932086</td>\n",
              "    </tr>\n",
              "    <tr>\n",
              "      <th>199</th>\n",
              "      <td>0.029990</td>\n",
              "      <td>0.687765</td>\n",
              "    </tr>\n",
              "  </tbody>\n",
              "</table>\n",
              "<p>200 rows × 2 columns</p>\n",
              "</div>\n",
              "    <div class=\"colab-df-buttons\">\n",
              "\n",
              "  <div class=\"colab-df-container\">\n",
              "    <button class=\"colab-df-convert\" onclick=\"convertToInteractive('df-e964ec2b-983f-43cd-ac4e-440e3f37f147')\"\n",
              "            title=\"Convert this dataframe to an interactive table.\"\n",
              "            style=\"display:none;\">\n",
              "\n",
              "  <svg xmlns=\"http://www.w3.org/2000/svg\" height=\"24px\" viewBox=\"0 -960 960 960\">\n",
              "    <path d=\"M120-120v-720h720v720H120Zm60-500h600v-160H180v160Zm220 220h160v-160H400v160Zm0 220h160v-160H400v160ZM180-400h160v-160H180v160Zm440 0h160v-160H620v160ZM180-180h160v-160H180v160Zm440 0h160v-160H620v160Z\"/>\n",
              "  </svg>\n",
              "    </button>\n",
              "\n",
              "  <style>\n",
              "    .colab-df-container {\n",
              "      display:flex;\n",
              "      gap: 12px;\n",
              "    }\n",
              "\n",
              "    .colab-df-convert {\n",
              "      background-color: #E8F0FE;\n",
              "      border: none;\n",
              "      border-radius: 50%;\n",
              "      cursor: pointer;\n",
              "      display: none;\n",
              "      fill: #1967D2;\n",
              "      height: 32px;\n",
              "      padding: 0 0 0 0;\n",
              "      width: 32px;\n",
              "    }\n",
              "\n",
              "    .colab-df-convert:hover {\n",
              "      background-color: #E2EBFA;\n",
              "      box-shadow: 0px 1px 2px rgba(60, 64, 67, 0.3), 0px 1px 3px 1px rgba(60, 64, 67, 0.15);\n",
              "      fill: #174EA6;\n",
              "    }\n",
              "\n",
              "    .colab-df-buttons div {\n",
              "      margin-bottom: 4px;\n",
              "    }\n",
              "\n",
              "    [theme=dark] .colab-df-convert {\n",
              "      background-color: #3B4455;\n",
              "      fill: #D2E3FC;\n",
              "    }\n",
              "\n",
              "    [theme=dark] .colab-df-convert:hover {\n",
              "      background-color: #434B5C;\n",
              "      box-shadow: 0px 1px 3px 1px rgba(0, 0, 0, 0.15);\n",
              "      filter: drop-shadow(0px 1px 2px rgba(0, 0, 0, 0.3));\n",
              "      fill: #FFFFFF;\n",
              "    }\n",
              "  </style>\n",
              "\n",
              "    <script>\n",
              "      const buttonEl =\n",
              "        document.querySelector('#df-e964ec2b-983f-43cd-ac4e-440e3f37f147 button.colab-df-convert');\n",
              "      buttonEl.style.display =\n",
              "        google.colab.kernel.accessAllowed ? 'block' : 'none';\n",
              "\n",
              "      async function convertToInteractive(key) {\n",
              "        const element = document.querySelector('#df-e964ec2b-983f-43cd-ac4e-440e3f37f147');\n",
              "        const dataTable =\n",
              "          await google.colab.kernel.invokeFunction('convertToInteractive',\n",
              "                                                    [key], {});\n",
              "        if (!dataTable) return;\n",
              "\n",
              "        const docLinkHtml = 'Like what you see? Visit the ' +\n",
              "          '<a target=\"_blank\" href=https://colab.research.google.com/notebooks/data_table.ipynb>data table notebook</a>'\n",
              "          + ' to learn more about interactive tables.';\n",
              "        element.innerHTML = '';\n",
              "        dataTable['output_type'] = 'display_data';\n",
              "        await google.colab.output.renderOutput(dataTable, element);\n",
              "        const docLink = document.createElement('div');\n",
              "        docLink.innerHTML = docLinkHtml;\n",
              "        element.appendChild(docLink);\n",
              "      }\n",
              "    </script>\n",
              "  </div>\n",
              "\n",
              "\n",
              "<div id=\"df-2f5ffab9-a7f9-44ed-b6d6-83d9cd334c83\">\n",
              "  <button class=\"colab-df-quickchart\" onclick=\"quickchart('df-2f5ffab9-a7f9-44ed-b6d6-83d9cd334c83')\"\n",
              "            title=\"Suggest charts\"\n",
              "            style=\"display:none;\">\n",
              "\n",
              "<svg xmlns=\"http://www.w3.org/2000/svg\" height=\"24px\"viewBox=\"0 0 24 24\"\n",
              "     width=\"24px\">\n",
              "    <g>\n",
              "        <path d=\"M19 3H5c-1.1 0-2 .9-2 2v14c0 1.1.9 2 2 2h14c1.1 0 2-.9 2-2V5c0-1.1-.9-2-2-2zM9 17H7v-7h2v7zm4 0h-2V7h2v10zm4 0h-2v-4h2v4z\"/>\n",
              "    </g>\n",
              "</svg>\n",
              "  </button>\n",
              "\n",
              "<style>\n",
              "  .colab-df-quickchart {\n",
              "      --bg-color: #E8F0FE;\n",
              "      --fill-color: #1967D2;\n",
              "      --hover-bg-color: #E2EBFA;\n",
              "      --hover-fill-color: #174EA6;\n",
              "      --disabled-fill-color: #AAA;\n",
              "      --disabled-bg-color: #DDD;\n",
              "  }\n",
              "\n",
              "  [theme=dark] .colab-df-quickchart {\n",
              "      --bg-color: #3B4455;\n",
              "      --fill-color: #D2E3FC;\n",
              "      --hover-bg-color: #434B5C;\n",
              "      --hover-fill-color: #FFFFFF;\n",
              "      --disabled-bg-color: #3B4455;\n",
              "      --disabled-fill-color: #666;\n",
              "  }\n",
              "\n",
              "  .colab-df-quickchart {\n",
              "    background-color: var(--bg-color);\n",
              "    border: none;\n",
              "    border-radius: 50%;\n",
              "    cursor: pointer;\n",
              "    display: none;\n",
              "    fill: var(--fill-color);\n",
              "    height: 32px;\n",
              "    padding: 0;\n",
              "    width: 32px;\n",
              "  }\n",
              "\n",
              "  .colab-df-quickchart:hover {\n",
              "    background-color: var(--hover-bg-color);\n",
              "    box-shadow: 0 1px 2px rgba(60, 64, 67, 0.3), 0 1px 3px 1px rgba(60, 64, 67, 0.15);\n",
              "    fill: var(--button-hover-fill-color);\n",
              "  }\n",
              "\n",
              "  .colab-df-quickchart-complete:disabled,\n",
              "  .colab-df-quickchart-complete:disabled:hover {\n",
              "    background-color: var(--disabled-bg-color);\n",
              "    fill: var(--disabled-fill-color);\n",
              "    box-shadow: none;\n",
              "  }\n",
              "\n",
              "  .colab-df-spinner {\n",
              "    border: 2px solid var(--fill-color);\n",
              "    border-color: transparent;\n",
              "    border-bottom-color: var(--fill-color);\n",
              "    animation:\n",
              "      spin 1s steps(1) infinite;\n",
              "  }\n",
              "\n",
              "  @keyframes spin {\n",
              "    0% {\n",
              "      border-color: transparent;\n",
              "      border-bottom-color: var(--fill-color);\n",
              "      border-left-color: var(--fill-color);\n",
              "    }\n",
              "    20% {\n",
              "      border-color: transparent;\n",
              "      border-left-color: var(--fill-color);\n",
              "      border-top-color: var(--fill-color);\n",
              "    }\n",
              "    30% {\n",
              "      border-color: transparent;\n",
              "      border-left-color: var(--fill-color);\n",
              "      border-top-color: var(--fill-color);\n",
              "      border-right-color: var(--fill-color);\n",
              "    }\n",
              "    40% {\n",
              "      border-color: transparent;\n",
              "      border-right-color: var(--fill-color);\n",
              "      border-top-color: var(--fill-color);\n",
              "    }\n",
              "    60% {\n",
              "      border-color: transparent;\n",
              "      border-right-color: var(--fill-color);\n",
              "    }\n",
              "    80% {\n",
              "      border-color: transparent;\n",
              "      border-right-color: var(--fill-color);\n",
              "      border-bottom-color: var(--fill-color);\n",
              "    }\n",
              "    90% {\n",
              "      border-color: transparent;\n",
              "      border-bottom-color: var(--fill-color);\n",
              "    }\n",
              "  }\n",
              "</style>\n",
              "\n",
              "  <script>\n",
              "    async function quickchart(key) {\n",
              "      const quickchartButtonEl =\n",
              "        document.querySelector('#' + key + ' button');\n",
              "      quickchartButtonEl.disabled = true;  // To prevent multiple clicks.\n",
              "      quickchartButtonEl.classList.add('colab-df-spinner');\n",
              "      try {\n",
              "        const charts = await google.colab.kernel.invokeFunction(\n",
              "            'suggestCharts', [key], {});\n",
              "      } catch (error) {\n",
              "        console.error('Error during call to suggestCharts:', error);\n",
              "      }\n",
              "      quickchartButtonEl.classList.remove('colab-df-spinner');\n",
              "      quickchartButtonEl.classList.add('colab-df-quickchart-complete');\n",
              "    }\n",
              "    (() => {\n",
              "      let quickchartButtonEl =\n",
              "        document.querySelector('#df-2f5ffab9-a7f9-44ed-b6d6-83d9cd334c83 button');\n",
              "      quickchartButtonEl.style.display =\n",
              "        google.colab.kernel.accessAllowed ? 'block' : 'none';\n",
              "    })();\n",
              "  </script>\n",
              "</div>\n",
              "    </div>\n",
              "  </div>\n"
            ],
            "application/vnd.google.colaboratory.intrinsic+json": {
              "type": "dataframe",
              "variable_name": "z",
              "summary": "{\n  \"name\": \"z\",\n  \"rows\": 200,\n  \"fields\": [\n    {\n      \"column\": \"AnnualIncome\",\n      \"properties\": {\n        \"dtype\": \"number\",\n        \"std\": 0.5730723634359464,\n        \"min\": 0.00433075929211671,\n        \"max\": 2.430388552076616,\n        \"num_unique_values\": 200,\n        \"samples\": [\n          1.1029990735610373,\n          0.3391051476700291,\n          0.5871750982062378\n        ],\n        \"semantic_type\": \"\",\n        \"description\": \"\"\n      }\n    },\n    {\n      \"column\": \"SpendingScore\",\n      \"properties\": {\n        \"dtype\": \"number\",\n        \"std\": 0.5078102803929734,\n        \"min\": 0.010296398903383472,\n        \"max\": 1.7205457082789333,\n        \"num_unique_values\": 87,\n        \"samples\": [\n          1.5254376748216,\n          0.9526786714164415,\n          1.246213297780694\n        ],\n        \"semantic_type\": \"\",\n        \"description\": \"\"\n      }\n    }\n  ]\n}"
            }
          },
          "metadata": {},
          "execution_count": 33
        }
      ]
    },
    {
      "cell_type": "markdown",
      "source": [
        "**Condition** **to** **be** **Outlier** : If the value of zscore > 2."
      ],
      "metadata": {
        "id": "_QYOmRr8DUWt"
      }
    },
    {
      "cell_type": "code",
      "source": [
        "np.where(z>2)"
      ],
      "metadata": {
        "colab": {
          "base_uri": "https://localhost:8080/"
        },
        "id": "DqfltJ9-Ds6x",
        "outputId": "d37678a3-290f-4316-d97f-6b41ce3c4a71"
      },
      "execution_count": 34,
      "outputs": [
        {
          "output_type": "execute_result",
          "data": {
            "text/plain": [
              "(array([ 62,  65, 114, 148, 155, 166, 171, 177, 194]),\n",
              " array([0, 0, 0, 0, 0, 0, 0, 0, 0]))"
            ]
          },
          "metadata": {},
          "execution_count": 34
        }
      ]
    },
    {
      "cell_type": "markdown",
      "source": [
        "The column Annual Income has 9 Outliers in rows ( 62,65,114,148,155,166,171,177,194)"
      ],
      "metadata": {
        "id": "M4CN7h1EFiLN"
      }
    },
    {
      "cell_type": "code",
      "source": [
        "# Confirmation\n",
        "\n",
        "z.iloc[62]"
      ],
      "metadata": {
        "colab": {
          "base_uri": "https://localhost:8080/"
        },
        "id": "Izf3KSL2D0ou",
        "outputId": "c4537b6d-b223-4fa8-d6e3-48940d4b0fb5"
      },
      "execution_count": 35,
      "outputs": [
        {
          "output_type": "execute_result",
          "data": {
            "text/plain": [
              "AnnualIncome     2.312233\n",
              "SpendingScore    0.289521\n",
              "Name: 62, dtype: float64"
            ]
          },
          "metadata": {},
          "execution_count": 35
        }
      ]
    },
    {
      "cell_type": "code",
      "source": [
        "# Confirmation\n",
        "\n",
        "z.iloc[65]"
      ],
      "metadata": {
        "colab": {
          "base_uri": "https://localhost:8080/"
        },
        "id": "lIayLmt1FY7O",
        "outputId": "3d62cfe8-bc82-427b-c6fd-e8ea90f1889e"
      },
      "execution_count": 36,
      "outputs": [
        {
          "output_type": "execute_result",
          "data": {
            "text/plain": [
              "AnnualIncome     2.014567\n",
              "SpendingScore    1.281116\n",
              "Name: 65, dtype: float64"
            ]
          },
          "metadata": {},
          "execution_count": 36
        }
      ]
    },
    {
      "cell_type": "markdown",
      "source": [
        "**Task** **5** : Evaluation of CustomerAge and SpendingScore of Customers using Scatter Plot to detect Outliers"
      ],
      "metadata": {
        "id": "adI-tiGY-OQ0"
      }
    },
    {
      "cell_type": "code",
      "source": [
        "plt.scatter(df['CustomerAge'], df['SpendingScore'])\n",
        "plt.xlabel('Customers Age')\n",
        "plt.ylabel('Spending Score of Customers')\n",
        "plt.title('Scatter Plot')\n",
        "plt.show()"
      ],
      "metadata": {
        "colab": {
          "base_uri": "https://localhost:8080/",
          "height": 472
        },
        "id": "-mGpDUyq-whU",
        "outputId": "01c10b6a-4922-4fa9-a069-dc63df2e09c7"
      },
      "execution_count": 27,
      "outputs": [
        {
          "output_type": "display_data",
          "data": {
            "text/plain": [
              "<Figure size 640x480 with 1 Axes>"
            ],
            "image/png": "[encoded data removed]"
          },
          "metadata": {}
        }
      ]
    },
    {
      "cell_type": "markdown",
      "source": [
        "They aren't Outliers by observing this scatter plot."
      ],
      "metadata": {
        "id": "fIr8Vun5FI9Q"
      }
    }
  ]
}