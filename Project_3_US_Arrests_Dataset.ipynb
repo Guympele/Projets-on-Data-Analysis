{
  "nbformat": 4,
  "nbformat_minor": 0,
  "metadata": {
    "colab": {
      "provenance": [],
      "authorship_tag": "ABX9TyNH85eg/Lz2jIpv9q23ZL0M",
      "include_colab_link": true
    },
    "kernelspec": {
      "name": "python3",
      "display_name": "Python 3"
    },
    "language_info": {
      "name": "python"
    }
  },
  "cells": [
    {
      "cell_type": "markdown",
      "metadata": {
        "id": "view-in-github",
        "colab_type": "text"
      },
      "source": [
        "<a href=\"https://colab.research.google.com/github/Guympele/Projets-on-Data-Analysis/blob/Data-sets-analysis/Project_3_US_Arrests_Dataset.ipynb\" target=\"_parent\"><img src=\"https://colab.research.google.com/assets/colab-badge.svg\" alt=\"Open In Colab\"/></a>"
      ]
    },
    {
      "cell_type": "code",
      "execution_count": 2,
      "metadata": {
        "colab": {
          "base_uri": "https://localhost:8080/"
        },
        "id": "G4qfwGb29PvH",
        "outputId": "f1dc12de-8143-4aa9-ee27-e36fb050fafc"
      },
      "outputs": [
        {
          "output_type": "stream",
          "name": "stdout",
          "text": [
            "--2024-04-09 08:18:50--  https://www.dropbox.com/s/5kobpxrkzlj2ek6/STAT%20S01V19.zip\n",
            "Resolving www.dropbox.com (www.dropbox.com)... 162.125.3.18, 2620:100:6018:18::a27d:312\n",
            "Connecting to www.dropbox.com (www.dropbox.com)|162.125.3.18|:443... connected.\n",
            "HTTP request sent, awaiting response... 302 Found\n",
            "Location: /s/raw/5kobpxrkzlj2ek6/STAT%20S01V19.zip [following]\n",
            "--2024-04-09 08:18:51--  https://www.dropbox.com/s/raw/5kobpxrkzlj2ek6/STAT%20S01V19.zip\n",
            "Reusing existing connection to www.dropbox.com:443.\n",
            "HTTP request sent, awaiting response... 302 Found\n",
            "Location: https://ucff15b08fe5c4bb19f1604af627.dl.dropboxusercontent.com/cd/0/inline/CQpyvxDoOZJPLCA1VIgq-_JJ40sVhaLA4BcpywrMCDVuOIq9AXdB7LvZo1n976lt7EGEwMrT2Svn4QMf8OHg5clllpgA_YWoViUi4ybJyou2kWJ3NthSwCpiiwbP2QV3bZQYyb-vFpgSO3H3eo61YE1t/file# [following]\n",
            "--2024-04-09 08:18:51--  https://ucff15b08fe5c4bb19f1604af627.dl.dropboxusercontent.com/cd/0/inline/CQpyvxDoOZJPLCA1VIgq-_JJ40sVhaLA4BcpywrMCDVuOIq9AXdB7LvZo1n976lt7EGEwMrT2Svn4QMf8OHg5clllpgA_YWoViUi4ybJyou2kWJ3NthSwCpiiwbP2QV3bZQYyb-vFpgSO3H3eo61YE1t/file\n",
            "Resolving ucff15b08fe5c4bb19f1604af627.dl.dropboxusercontent.com (ucff15b08fe5c4bb19f1604af627.dl.dropboxusercontent.com)... 162.125.3.15, 2620:100:601b:15::a27d:80f\n",
            "Connecting to ucff15b08fe5c4bb19f1604af627.dl.dropboxusercontent.com (ucff15b08fe5c4bb19f1604af627.dl.dropboxusercontent.com)|162.125.3.15|:443... connected.\n",
            "HTTP request sent, awaiting response... 302 Found\n",
            "Location: /cd/0/inline2/CQq_NBAosB5h4O09EgGPwXpwwGqgnydY-pVg4s1ozdmdoYSZpQlUwwflq6V9OK7aMthhu6QPCKfk-9ICmjWZ_xdYgMskNHxdjvNI4RDC9rBQqbWyEfYizOJisx8cXBXMMxfplkZ9Wrn7P53V43makQyqIfGZcuTuVEx9XeKg6sHn3SSQ6Q_WgMZ2syh-ePSrH_K02Vhd9JzvfNqSyXnyng-QinPj-rQV9cfOgWVhCRAGyp_zCNCJo5zf4x6GiYmWETbmtv-BK5QRUyfVFVC6OATpqyMyP60tPrjFo2S2Lu-2HePobPvrvOHkrRikak4_LAZsQ_HIsRL04K2xA_hc56yZceOPqnH-JTbTlMVc2OQHno3H8N7KMmPcRksoHKBlp2Q/file [following]\n",
            "--2024-04-09 08:18:52--  https://ucff15b08fe5c4bb19f1604af627.dl.dropboxusercontent.com/cd/0/inline2/CQq_NBAosB5h4O09EgGPwXpwwGqgnydY-pVg4s1ozdmdoYSZpQlUwwflq6V9OK7aMthhu6QPCKfk-9ICmjWZ_xdYgMskNHxdjvNI4RDC9rBQqbWyEfYizOJisx8cXBXMMxfplkZ9Wrn7P53V43makQyqIfGZcuTuVEx9XeKg6sHn3SSQ6Q_WgMZ2syh-ePSrH_K02Vhd9JzvfNqSyXnyng-QinPj-rQV9cfOgWVhCRAGyp_zCNCJo5zf4x6GiYmWETbmtv-BK5QRUyfVFVC6OATpqyMyP60tPrjFo2S2Lu-2HePobPvrvOHkrRikak4_LAZsQ_HIsRL04K2xA_hc56yZceOPqnH-JTbTlMVc2OQHno3H8N7KMmPcRksoHKBlp2Q/file\n",
            "Reusing existing connection to ucff15b08fe5c4bb19f1604af627.dl.dropboxusercontent.com:443.\n",
            "HTTP request sent, awaiting response... 200 OK\n",
            "Length: 9111 (8.9K) [application/zip]\n",
            "Saving to: ‘STAT S01V19.zip’\n",
            "\n",
            "STAT S01V19.zip     100%[===================>]   8.90K  --.-KB/s    in 0s      \n",
            "\n",
            "2024-04-09 08:18:52 (164 MB/s) - ‘STAT S01V19.zip’ saved [9111/9111]\n",
            "\n",
            "Archive:  STAT S01V19.zip\n",
            "  inflating: USArrests.xlsx          \n"
          ]
        }
      ],
      "source": [
        "!wget https://www.dropbox.com/s/5kobpxrkzlj2ek6/STAT%20S01V19.zip\n",
        "!unzip \"STAT S01V19.zip\""
      ]
    },
    {
      "cell_type": "code",
      "source": [
        "import pandas as pd\n",
        "import numpy as np\n",
        "import matplotlib.pyplot as plt\n",
        "import seaborn as sns"
      ],
      "metadata": {
        "id": "8YdwxmQ__Jbj"
      },
      "execution_count": 25,
      "outputs": []
    },
    {
      "cell_type": "code",
      "source": [
        "df = pd.read_excel(\"USArrests.xlsx\")\n",
        "df.head()"
      ],
      "metadata": {
        "colab": {
          "base_uri": "https://localhost:8080/",
          "height": 206
        },
        "id": "mE_vWN4g_vKc",
        "outputId": "48cf3853-73ba-465a-8d7f-4974b51b1550"
      },
      "execution_count": 4,
      "outputs": [
        {
          "output_type": "execute_result",
          "data": {
            "text/plain": [
              "   Unnamed: 0  Murder  Assault  UrbanPop  Fraud\n",
              "0     Alabama    13.2      236        58   21.2\n",
              "1      Alaska    10.0      263        48   44.5\n",
              "2     Arizona     8.1      294        80   31.0\n",
              "3    Arkansas     8.8      190        50   19.5\n",
              "4  California     9.0      276        91   40.6"
            ],
            "text/html": [
              "\n",
              "  <div id=\"df-4082e9f3-e3ac-482e-907c-cd55e11eb8d4\" class=\"colab-df-container\">\n",
              "    <div>\n",
              "<style scoped>\n",
              "    .dataframe tbody tr th:only-of-type {\n",
              "        vertical-align: middle;\n",
              "    }\n",
              "\n",
              "    .dataframe tbody tr th {\n",
              "        vertical-align: top;\n",
              "    }\n",
              "\n",
              "    .dataframe thead th {\n",
              "        text-align: right;\n",
              "    }\n",
              "</style>\n",
              "<table border=\"1\" class=\"dataframe\">\n",
              "  <thead>\n",
              "    <tr style=\"text-align: right;\">\n",
              "      <th></th>\n",
              "      <th>Unnamed: 0</th>\n",
              "      <th>Murder</th>\n",
              "      <th>Assault</th>\n",
              "      <th>UrbanPop</th>\n",
              "      <th>Fraud</th>\n",
              "    </tr>\n",
              "  </thead>\n",
              "  <tbody>\n",
              "    <tr>\n",
              "      <th>0</th>\n",
              "      <td>Alabama</td>\n",
              "      <td>13.2</td>\n",
              "      <td>236</td>\n",
              "      <td>58</td>\n",
              "      <td>21.2</td>\n",
              "    </tr>\n",
              "    <tr>\n",
              "      <th>1</th>\n",
              "      <td>Alaska</td>\n",
              "      <td>10.0</td>\n",
              "      <td>263</td>\n",
              "      <td>48</td>\n",
              "      <td>44.5</td>\n",
              "    </tr>\n",
              "    <tr>\n",
              "      <th>2</th>\n",
              "      <td>Arizona</td>\n",
              "      <td>8.1</td>\n",
              "      <td>294</td>\n",
              "      <td>80</td>\n",
              "      <td>31.0</td>\n",
              "    </tr>\n",
              "    <tr>\n",
              "      <th>3</th>\n",
              "      <td>Arkansas</td>\n",
              "      <td>8.8</td>\n",
              "      <td>190</td>\n",
              "      <td>50</td>\n",
              "      <td>19.5</td>\n",
              "    </tr>\n",
              "    <tr>\n",
              "      <th>4</th>\n",
              "      <td>California</td>\n",
              "      <td>9.0</td>\n",
              "      <td>276</td>\n",
              "      <td>91</td>\n",
              "      <td>40.6</td>\n",
              "    </tr>\n",
              "  </tbody>\n",
              "</table>\n",
              "</div>\n",
              "    <div class=\"colab-df-buttons\">\n",
              "\n",
              "  <div class=\"colab-df-container\">\n",
              "    <button class=\"colab-df-convert\" onclick=\"convertToInteractive('df-4082e9f3-e3ac-482e-907c-cd55e11eb8d4')\"\n",
              "            title=\"Convert this dataframe to an interactive table.\"\n",
              "            style=\"display:none;\">\n",
              "\n",
              "  <svg xmlns=\"http://www.w3.org/2000/svg\" height=\"24px\" viewBox=\"0 -960 960 960\">\n",
              "    <path d=\"M120-120v-720h720v720H120Zm60-500h600v-160H180v160Zm220 220h160v-160H400v160Zm0 220h160v-160H400v160ZM180-400h160v-160H180v160Zm440 0h160v-160H620v160ZM180-180h160v-160H180v160Zm440 0h160v-160H620v160Z\"/>\n",
              "  </svg>\n",
              "    </button>\n",
              "\n",
              "  <style>\n",
              "    .colab-df-container {\n",
              "      display:flex;\n",
              "      gap: 12px;\n",
              "    }\n",
              "\n",
              "    .colab-df-convert {\n",
              "      background-color: #E8F0FE;\n",
              "      border: none;\n",
              "      border-radius: 50%;\n",
              "      cursor: pointer;\n",
              "      display: none;\n",
              "      fill: #1967D2;\n",
              "      height: 32px;\n",
              "      padding: 0 0 0 0;\n",
              "      width: 32px;\n",
              "    }\n",
              "\n",
              "    .colab-df-convert:hover {\n",
              "      background-color: #E2EBFA;\n",
              "      box-shadow: 0px 1px 2px rgba(60, 64, 67, 0.3), 0px 1px 3px 1px rgba(60, 64, 67, 0.15);\n",
              "      fill: #174EA6;\n",
              "    }\n",
              "\n",
              "    .colab-df-buttons div {\n",
              "      margin-bottom: 4px;\n",
              "    }\n",
              "\n",
              "    [theme=dark] .colab-df-convert {\n",
              "      background-color: #3B4455;\n",
              "      fill: #D2E3FC;\n",
              "    }\n",
              "\n",
              "    [theme=dark] .colab-df-convert:hover {\n",
              "      background-color: #434B5C;\n",
              "      box-shadow: 0px 1px 3px 1px rgba(0, 0, 0, 0.15);\n",
              "      filter: drop-shadow(0px 1px 2px rgba(0, 0, 0, 0.3));\n",
              "      fill: #FFFFFF;\n",
              "    }\n",
              "  </style>\n",
              "\n",
              "    <script>\n",
              "      const buttonEl =\n",
              "        document.querySelector('#df-4082e9f3-e3ac-482e-907c-cd55e11eb8d4 button.colab-df-convert');\n",
              "      buttonEl.style.display =\n",
              "        google.colab.kernel.accessAllowed ? 'block' : 'none';\n",
              "\n",
              "      async function convertToInteractive(key) {\n",
              "        const element = document.querySelector('#df-4082e9f3-e3ac-482e-907c-cd55e11eb8d4');\n",
              "        const dataTable =\n",
              "          await google.colab.kernel.invokeFunction('convertToInteractive',\n",
              "                                                    [key], {});\n",
              "        if (!dataTable) return;\n",
              "\n",
              "        const docLinkHtml = 'Like what you see? Visit the ' +\n",
              "          '<a target=\"_blank\" href=https://colab.research.google.com/notebooks/data_table.ipynb>data table notebook</a>'\n",
              "          + ' to learn more about interactive tables.';\n",
              "        element.innerHTML = '';\n",
              "        dataTable['output_type'] = 'display_data';\n",
              "        await google.colab.output.renderOutput(dataTable, element);\n",
              "        const docLink = document.createElement('div');\n",
              "        docLink.innerHTML = docLinkHtml;\n",
              "        element.appendChild(docLink);\n",
              "      }\n",
              "    </script>\n",
              "  </div>\n",
              "\n",
              "\n",
              "<div id=\"df-c60c7aa7-be09-4e8f-b3f2-ad7606879b60\">\n",
              "  <button class=\"colab-df-quickchart\" onclick=\"quickchart('df-c60c7aa7-be09-4e8f-b3f2-ad7606879b60')\"\n",
              "            title=\"Suggest charts\"\n",
              "            style=\"display:none;\">\n",
              "\n",
              "<svg xmlns=\"http://www.w3.org/2000/svg\" height=\"24px\"viewBox=\"0 0 24 24\"\n",
              "     width=\"24px\">\n",
              "    <g>\n",
              "        <path d=\"M19 3H5c-1.1 0-2 .9-2 2v14c0 1.1.9 2 2 2h14c1.1 0 2-.9 2-2V5c0-1.1-.9-2-2-2zM9 17H7v-7h2v7zm4 0h-2V7h2v10zm4 0h-2v-4h2v4z\"/>\n",
              "    </g>\n",
              "</svg>\n",
              "  </button>\n",
              "\n",
              "<style>\n",
              "  .colab-df-quickchart {\n",
              "      --bg-color: #E8F0FE;\n",
              "      --fill-color: #1967D2;\n",
              "      --hover-bg-color: #E2EBFA;\n",
              "      --hover-fill-color: #174EA6;\n",
              "      --disabled-fill-color: #AAA;\n",
              "      --disabled-bg-color: #DDD;\n",
              "  }\n",
              "\n",
              "  [theme=dark] .colab-df-quickchart {\n",
              "      --bg-color: #3B4455;\n",
              "      --fill-color: #D2E3FC;\n",
              "      --hover-bg-color: #434B5C;\n",
              "      --hover-fill-color: #FFFFFF;\n",
              "      --disabled-bg-color: #3B4455;\n",
              "      --disabled-fill-color: #666;\n",
              "  }\n",
              "\n",
              "  .colab-df-quickchart {\n",
              "    background-color: var(--bg-color);\n",
              "    border: none;\n",
              "    border-radius: 50%;\n",
              "    cursor: pointer;\n",
              "    display: none;\n",
              "    fill: var(--fill-color);\n",
              "    height: 32px;\n",
              "    padding: 0;\n",
              "    width: 32px;\n",
              "  }\n",
              "\n",
              "  .colab-df-quickchart:hover {\n",
              "    background-color: var(--hover-bg-color);\n",
              "    box-shadow: 0 1px 2px rgba(60, 64, 67, 0.3), 0 1px 3px 1px rgba(60, 64, 67, 0.15);\n",
              "    fill: var(--button-hover-fill-color);\n",
              "  }\n",
              "\n",
              "  .colab-df-quickchart-complete:disabled,\n",
              "  .colab-df-quickchart-complete:disabled:hover {\n",
              "    background-color: var(--disabled-bg-color);\n",
              "    fill: var(--disabled-fill-color);\n",
              "    box-shadow: none;\n",
              "  }\n",
              "\n",
              "  .colab-df-spinner {\n",
              "    border: 2px solid var(--fill-color);\n",
              "    border-color: transparent;\n",
              "    border-bottom-color: var(--fill-color);\n",
              "    animation:\n",
              "      spin 1s steps(1) infinite;\n",
              "  }\n",
              "\n",
              "  @keyframes spin {\n",
              "    0% {\n",
              "      border-color: transparent;\n",
              "      border-bottom-color: var(--fill-color);\n",
              "      border-left-color: var(--fill-color);\n",
              "    }\n",
              "    20% {\n",
              "      border-color: transparent;\n",
              "      border-left-color: var(--fill-color);\n",
              "      border-top-color: var(--fill-color);\n",
              "    }\n",
              "    30% {\n",
              "      border-color: transparent;\n",
              "      border-left-color: var(--fill-color);\n",
              "      border-top-color: var(--fill-color);\n",
              "      border-right-color: var(--fill-color);\n",
              "    }\n",
              "    40% {\n",
              "      border-color: transparent;\n",
              "      border-right-color: var(--fill-color);\n",
              "      border-top-color: var(--fill-color);\n",
              "    }\n",
              "    60% {\n",
              "      border-color: transparent;\n",
              "      border-right-color: var(--fill-color);\n",
              "    }\n",
              "    80% {\n",
              "      border-color: transparent;\n",
              "      border-right-color: var(--fill-color);\n",
              "      border-bottom-color: var(--fill-color);\n",
              "    }\n",
              "    90% {\n",
              "      border-color: transparent;\n",
              "      border-bottom-color: var(--fill-color);\n",
              "    }\n",
              "  }\n",
              "</style>\n",
              "\n",
              "  <script>\n",
              "    async function quickchart(key) {\n",
              "      const quickchartButtonEl =\n",
              "        document.querySelector('#' + key + ' button');\n",
              "      quickchartButtonEl.disabled = true;  // To prevent multiple clicks.\n",
              "      quickchartButtonEl.classList.add('colab-df-spinner');\n",
              "      try {\n",
              "        const charts = await google.colab.kernel.invokeFunction(\n",
              "            'suggestCharts', [key], {});\n",
              "      } catch (error) {\n",
              "        console.error('Error during call to suggestCharts:', error);\n",
              "      }\n",
              "      quickchartButtonEl.classList.remove('colab-df-spinner');\n",
              "      quickchartButtonEl.classList.add('colab-df-quickchart-complete');\n",
              "    }\n",
              "    (() => {\n",
              "      let quickchartButtonEl =\n",
              "        document.querySelector('#df-c60c7aa7-be09-4e8f-b3f2-ad7606879b60 button');\n",
              "      quickchartButtonEl.style.display =\n",
              "        google.colab.kernel.accessAllowed ? 'block' : 'none';\n",
              "    })();\n",
              "  </script>\n",
              "</div>\n",
              "    </div>\n",
              "  </div>\n"
            ],
            "application/vnd.google.colaboratory.intrinsic+json": {
              "type": "dataframe",
              "variable_name": "df",
              "summary": "{\n  \"name\": \"df\",\n  \"rows\": 50,\n  \"fields\": [\n    {\n      \"column\": \"Unnamed: 0\",\n      \"properties\": {\n        \"dtype\": \"string\",\n        \"num_unique_values\": 50,\n        \"samples\": [\n          \"Indiana\",\n          \"South Carolina\",\n          \"New Mexico\"\n        ],\n        \"semantic_type\": \"\",\n        \"description\": \"\"\n      }\n    },\n    {\n      \"column\": \"Murder\",\n      \"properties\": {\n        \"dtype\": \"number\",\n        \"std\": 4.355509764209288,\n        \"min\": 0.8,\n        \"max\": 17.4,\n        \"num_unique_values\": 43,\n        \"samples\": [\n          12.7,\n          12.2,\n          7.4\n        ],\n        \"semantic_type\": \"\",\n        \"description\": \"\"\n      }\n    },\n    {\n      \"column\": \"Assault\",\n      \"properties\": {\n        \"dtype\": \"number\",\n        \"std\": 83,\n        \"min\": 45,\n        \"max\": 337,\n        \"num_unique_values\": 45,\n        \"samples\": [\n          48,\n          252,\n          57\n        ],\n        \"semantic_type\": \"\",\n        \"description\": \"\"\n      }\n    },\n    {\n      \"column\": \"UrbanPop\",\n      \"properties\": {\n        \"dtype\": \"number\",\n        \"std\": 4233,\n        \"min\": 32,\n        \"max\": 30000,\n        \"num_unique_values\": 36,\n        \"samples\": [\n          39,\n          66,\n          86\n        ],\n        \"semantic_type\": \"\",\n        \"description\": \"\"\n      }\n    },\n    {\n      \"column\": \"Fraud\",\n      \"properties\": {\n        \"dtype\": \"number\",\n        \"std\": 9.36638453105965,\n        \"min\": 7.3,\n        \"max\": 46.0,\n        \"num_unique_values\": 48,\n        \"samples\": [\n          9.5,\n          25.5,\n          46.0\n        ],\n        \"semantic_type\": \"\",\n        \"description\": \"\"\n      }\n    }\n  ]\n}"
            }
          },
          "metadata": {},
          "execution_count": 4
        }
      ]
    },
    {
      "cell_type": "markdown",
      "source": [
        "**Task** **1** : Let analyse the Measures of spread and Shape ( the IQR, Kurtosis,and Skewness ) on Assault & Fraud columns."
      ],
      "metadata": {
        "id": "1tLR2IOSAW_l"
      }
    },
    {
      "cell_type": "code",
      "source": [
        "from scipy.stats import iqr, kurtosis,skew\n",
        "\n",
        "# IQR on Assault and Fraud data\n",
        "iqr(df[['Assault','Fraud']], axis=0)"
      ],
      "metadata": {
        "colab": {
          "base_uri": "https://localhost:8080/"
        },
        "id": "-7A94LJr8ZTO",
        "outputId": "b02a0b37-d8aa-4855-c3f3-d068912f7c5e"
      },
      "execution_count": 27,
      "outputs": [
        {
          "output_type": "execute_result",
          "data": {
            "text/plain": [
              "array([140. ,  11.1])"
            ]
          },
          "metadata": {},
          "execution_count": 27
        }
      ]
    },
    {
      "cell_type": "code",
      "source": [
        "# Skewness on Assaut and Fraud data\n",
        "skew(df[['Assault','Fraud']], axis=0)"
      ],
      "metadata": {
        "colab": {
          "base_uri": "https://localhost:8080/"
        },
        "id": "912GfVoa80we",
        "outputId": "a9c6f65f-6db0-4cf7-a32a-f680e0b1c2f0"
      },
      "execution_count": 28,
      "outputs": [
        {
          "output_type": "execute_result",
          "data": {
            "text/plain": [
              "array([0.22731787, 0.77696132])"
            ]
          },
          "metadata": {},
          "execution_count": 28
        }
      ]
    },
    {
      "cell_type": "code",
      "source": [
        "# Kurtosis for Assault and Fraud data\n",
        "print(f\"The Pearson Kurtosis of Points Column is:{kurtosis(df[['Assault', 'Fraud']], fisher=False,axis=0)}\")\n",
        "print(f\"The Fisher's kurtosis of Points Column is:{kurtosis(df[['Assault','Fraud']], fisher=True, axis=0)}\")"
      ],
      "metadata": {
        "colab": {
          "base_uri": "https://localhost:8080/"
        },
        "id": "HeDy9nAq94lM",
        "outputId": "57155301-c574-46b8-fc4a-c23bd9d891ef"
      },
      "execution_count": 30,
      "outputs": [
        {
          "output_type": "stream",
          "name": "stdout",
          "text": [
            "The Pearson Kurtosis of Points Column is:[1.93097995 3.20189779]\n",
            "The Fisher's kurtosis of Points Column is:[-1.06902005  0.20189779]\n"
          ]
        }
      ]
    },
    {
      "cell_type": "markdown",
      "source": [
        "**Task** **2** : Let evaluate the Z-Score based on data in the Assault column"
      ],
      "metadata": {
        "id": "LVmXt1sL_Q7J"
      }
    },
    {
      "cell_type": "code",
      "source": [
        "from scipy.stats import zscore\n",
        "\n",
        "z = np.abs(zscore(df['Assault']))\n",
        "z"
      ],
      "metadata": {
        "colab": {
          "base_uri": "https://localhost:8080/"
        },
        "id": "ZJ-AUv2Z_jS2",
        "outputId": "fd831cd5-fd4f-44c7-b84e-ef8e5ce53628"
      },
      "execution_count": 15,
      "outputs": [
        {
          "output_type": "execute_result",
          "data": {
            "text/plain": [
              "0     0.790787\n",
              "1     1.118060\n",
              "2     1.493817\n",
              "3     0.233212\n",
              "4     1.275635\n",
              "5     0.402909\n",
              "6     0.736484\n",
              "7     0.815030\n",
              "8     1.990786\n",
              "9     0.487757\n",
              "10    1.512241\n",
              "11    0.615272\n",
              "12    0.948363\n",
              "13    0.700121\n",
              "14    1.391029\n",
              "15    0.675878\n",
              "16    0.748605\n",
              "17    0.948363\n",
              "18    1.063757\n",
              "19    1.566544\n",
              "20    0.263757\n",
              "21    1.021090\n",
              "22    1.197090\n",
              "23    1.069575\n",
              "24    0.087757\n",
              "25    0.748605\n",
              "26    0.833454\n",
              "27    0.984726\n",
              "28    1.378908\n",
              "29    0.142545\n",
              "30    1.384726\n",
              "31    1.008969\n",
              "32    2.015028\n",
              "33    1.524362\n",
              "34    0.615272\n",
              "35    0.239515\n",
              "36    0.142545\n",
              "37    0.784969\n",
              "38    0.039273\n",
              "39    1.311999\n",
              "40    1.027393\n",
              "41    0.208970\n",
              "42    0.366545\n",
              "43    0.615272\n",
              "44    1.487999\n",
              "45    0.178909\n",
              "46    0.312242\n",
              "47    1.087999\n",
              "48    1.427393\n",
              "49    0.118303\n",
              "Name: Assault, dtype: float64"
            ]
          },
          "metadata": {},
          "execution_count": 15
        }
      ]
    },
    {
      "cell_type": "markdown",
      "source": [
        "**Task** **3** : Let detect Outliers based on data in URBANPOP using Z-score"
      ],
      "metadata": {
        "id": "SvNq4vR9AO-1"
      }
    },
    {
      "cell_type": "code",
      "source": [
        "u =np.abs(zscore(df['UrbanPop']))\n",
        "u"
      ],
      "metadata": {
        "colab": {
          "base_uri": "https://localhost:8080/"
        },
        "id": "pm4wmBQHAsc4",
        "outputId": "3ec37ec2-2731-4657-9257-827ea6cebdfe"
      },
      "execution_count": 17,
      "outputs": [
        {
          "output_type": "execute_result",
          "data": {
            "text/plain": [
              "0     0.144561\n",
              "1     0.146947\n",
              "2     0.139311\n",
              "3     0.146470\n",
              "4     0.136687\n",
              "5     0.139788\n",
              "6     0.140027\n",
              "7     0.141220\n",
              "8     0.139311\n",
              "9     0.144083\n",
              "10    0.138595\n",
              "11    0.145515\n",
              "12    0.138595\n",
              "13    0.142890\n",
              "14    0.144799\n",
              "15    0.142652\n",
              "16    0.145992\n",
              "17    0.142652\n",
              "18    0.146231\n",
              "19    0.142413\n",
              "20    6.999961\n",
              "21    0.140743\n",
              "22    0.142652\n",
              "23    0.147901\n",
              "24    0.141697\n",
              "25    0.145754\n",
              "26    0.143606\n",
              "27    0.139073\n",
              "28    0.145038\n",
              "29    0.137164\n",
              "30    0.141697\n",
              "31    0.137880\n",
              "32    0.147663\n",
              "33    0.147901\n",
              "34    0.140504\n",
              "35    0.142175\n",
              "36    0.142413\n",
              "37    0.141220\n",
              "38    0.137641\n",
              "39    0.146947\n",
              "40    0.147663\n",
              "41    0.144322\n",
              "42    0.139311\n",
              "43    0.139311\n",
              "44    0.150765\n",
              "45    0.143368\n",
              "46    0.140982\n",
              "47    0.149094\n",
              "48    0.142652\n",
              "49    0.144083\n",
              "Name: UrbanPop, dtype: float64"
            ]
          },
          "metadata": {},
          "execution_count": 17
        }
      ]
    },
    {
      "cell_type": "code",
      "source": [
        "np.where(u>2)"
      ],
      "metadata": {
        "colab": {
          "base_uri": "https://localhost:8080/"
        },
        "id": "Mw4j3wDTA8ro",
        "outputId": "fc00b785-b8bc-43cf-94a8-631305a538fd"
      },
      "execution_count": 18,
      "outputs": [
        {
          "output_type": "execute_result",
          "data": {
            "text/plain": [
              "(array([20]),)"
            ]
          },
          "metadata": {},
          "execution_count": 18
        }
      ]
    },
    {
      "cell_type": "code",
      "source": [
        "df.iloc[20]"
      ],
      "metadata": {
        "colab": {
          "base_uri": "https://localhost:8080/"
        },
        "id": "n5h5OAXyN8M_",
        "outputId": "ace58375-5e81-4e97-a33a-d86abaf188d7"
      },
      "execution_count": 37,
      "outputs": [
        {
          "output_type": "execute_result",
          "data": {
            "text/plain": [
              "Unnamed: 0    Massachusetts\n",
              "Murder                  4.4\n",
              "Assault                 149\n",
              "UrbanPop              30000\n",
              "Fraud                  16.3\n",
              "Name: 20, dtype: object"
            ]
          },
          "metadata": {},
          "execution_count": 37
        }
      ]
    },
    {
      "cell_type": "markdown",
      "source": [
        "We have only have 1 outlier on UrbanPop data in the state of Massachusetts."
      ],
      "metadata": {
        "id": "xTsuKAreBD8p"
      }
    },
    {
      "cell_type": "markdown",
      "source": [
        "**Task** **4** : Let evaluate Outlier based on urbanpop column using IQR"
      ],
      "metadata": {
        "id": "9QGmfhK5BWj5"
      }
    },
    {
      "cell_type": "code",
      "source": [
        "# Function to detect Outliers by using the IQR\n",
        "def detect_outliers(column):\n",
        "    # Calculate the first and third quartile\n",
        "    Q1 = np.quantile(df[column], 0.25)\n",
        "    Q3 = np.quantile(df[column], 0.75)\n",
        "\n",
        "    # Calculate the IQR (Interquartile Range)\n",
        "    IQR = Q3 - Q1\n",
        "\n",
        "    # Define the bounds to detect outliers.\n",
        "    lower_bound = Q1 - 1.5 * IQR\n",
        "    upper_bound = Q3 + 1.5 * IQR\n",
        "\n",
        "    # Find the indices of outliers\n",
        "    return df[(df[column] < lower_bound) | (df[column] > upper_bound)]\n",
        ""
      ],
      "metadata": {
        "id": "9Hq6PK91BiZw"
      },
      "execution_count": 34,
      "outputs": []
    },
    {
      "cell_type": "code",
      "source": [
        "# Application\n",
        "detect_outliers('UrbanPop')"
      ],
      "metadata": {
        "colab": {
          "base_uri": "https://localhost:8080/",
          "height": 81
        },
        "id": "lid9zg3fMLZR",
        "outputId": "016aad96-a656-4c9b-d1e8-935dde31ed02"
      },
      "execution_count": 36,
      "outputs": [
        {
          "output_type": "execute_result",
          "data": {
            "text/plain": [
              "       Unnamed: 0  Murder  Assault  UrbanPop  Fraud\n",
              "20  Massachusetts     4.4      149     30000   16.3"
            ],
            "text/html": [
              "\n",
              "  <div id=\"df-2c3db79e-3c8f-4dd6-925b-0e21644bdbfa\" class=\"colab-df-container\">\n",
              "    <div>\n",
              "<style scoped>\n",
              "    .dataframe tbody tr th:only-of-type {\n",
              "        vertical-align: middle;\n",
              "    }\n",
              "\n",
              "    .dataframe tbody tr th {\n",
              "        vertical-align: top;\n",
              "    }\n",
              "\n",
              "    .dataframe thead th {\n",
              "        text-align: right;\n",
              "    }\n",
              "</style>\n",
              "<table border=\"1\" class=\"dataframe\">\n",
              "  <thead>\n",
              "    <tr style=\"text-align: right;\">\n",
              "      <th></th>\n",
              "      <th>Unnamed: 0</th>\n",
              "      <th>Murder</th>\n",
              "      <th>Assault</th>\n",
              "      <th>UrbanPop</th>\n",
              "      <th>Fraud</th>\n",
              "    </tr>\n",
              "  </thead>\n",
              "  <tbody>\n",
              "    <tr>\n",
              "      <th>20</th>\n",
              "      <td>Massachusetts</td>\n",
              "      <td>4.4</td>\n",
              "      <td>149</td>\n",
              "      <td>30000</td>\n",
              "      <td>16.3</td>\n",
              "    </tr>\n",
              "  </tbody>\n",
              "</table>\n",
              "</div>\n",
              "    <div class=\"colab-df-buttons\">\n",
              "\n",
              "  <div class=\"colab-df-container\">\n",
              "    <button class=\"colab-df-convert\" onclick=\"convertToInteractive('df-2c3db79e-3c8f-4dd6-925b-0e21644bdbfa')\"\n",
              "            title=\"Convert this dataframe to an interactive table.\"\n",
              "            style=\"display:none;\">\n",
              "\n",
              "  <svg xmlns=\"http://www.w3.org/2000/svg\" height=\"24px\" viewBox=\"0 -960 960 960\">\n",
              "    <path d=\"M120-120v-720h720v720H120Zm60-500h600v-160H180v160Zm220 220h160v-160H400v160Zm0 220h160v-160H400v160ZM180-400h160v-160H180v160Zm440 0h160v-160H620v160ZM180-180h160v-160H180v160Zm440 0h160v-160H620v160Z\"/>\n",
              "  </svg>\n",
              "    </button>\n",
              "\n",
              "  <style>\n",
              "    .colab-df-container {\n",
              "      display:flex;\n",
              "      gap: 12px;\n",
              "    }\n",
              "\n",
              "    .colab-df-convert {\n",
              "      background-color: #E8F0FE;\n",
              "      border: none;\n",
              "      border-radius: 50%;\n",
              "      cursor: pointer;\n",
              "      display: none;\n",
              "      fill: #1967D2;\n",
              "      height: 32px;\n",
              "      padding: 0 0 0 0;\n",
              "      width: 32px;\n",
              "    }\n",
              "\n",
              "    .colab-df-convert:hover {\n",
              "      background-color: #E2EBFA;\n",
              "      box-shadow: 0px 1px 2px rgba(60, 64, 67, 0.3), 0px 1px 3px 1px rgba(60, 64, 67, 0.15);\n",
              "      fill: #174EA6;\n",
              "    }\n",
              "\n",
              "    .colab-df-buttons div {\n",
              "      margin-bottom: 4px;\n",
              "    }\n",
              "\n",
              "    [theme=dark] .colab-df-convert {\n",
              "      background-color: #3B4455;\n",
              "      fill: #D2E3FC;\n",
              "    }\n",
              "\n",
              "    [theme=dark] .colab-df-convert:hover {\n",
              "      background-color: #434B5C;\n",
              "      box-shadow: 0px 1px 3px 1px rgba(0, 0, 0, 0.15);\n",
              "      filter: drop-shadow(0px 1px 2px rgba(0, 0, 0, 0.3));\n",
              "      fill: #FFFFFF;\n",
              "    }\n",
              "  </style>\n",
              "\n",
              "    <script>\n",
              "      const buttonEl =\n",
              "        document.querySelector('#df-2c3db79e-3c8f-4dd6-925b-0e21644bdbfa button.colab-df-convert');\n",
              "      buttonEl.style.display =\n",
              "        google.colab.kernel.accessAllowed ? 'block' : 'none';\n",
              "\n",
              "      async function convertToInteractive(key) {\n",
              "        const element = document.querySelector('#df-2c3db79e-3c8f-4dd6-925b-0e21644bdbfa');\n",
              "        const dataTable =\n",
              "          await google.colab.kernel.invokeFunction('convertToInteractive',\n",
              "                                                    [key], {});\n",
              "        if (!dataTable) return;\n",
              "\n",
              "        const docLinkHtml = 'Like what you see? Visit the ' +\n",
              "          '<a target=\"_blank\" href=https://colab.research.google.com/notebooks/data_table.ipynb>data table notebook</a>'\n",
              "          + ' to learn more about interactive tables.';\n",
              "        element.innerHTML = '';\n",
              "        dataTable['output_type'] = 'display_data';\n",
              "        await google.colab.output.renderOutput(dataTable, element);\n",
              "        const docLink = document.createElement('div');\n",
              "        docLink.innerHTML = docLinkHtml;\n",
              "        element.appendChild(docLink);\n",
              "      }\n",
              "    </script>\n",
              "  </div>\n",
              "\n",
              "    </div>\n",
              "  </div>\n"
            ],
            "application/vnd.google.colaboratory.intrinsic+json": {
              "type": "dataframe",
              "summary": "{\n  \"name\": \"detect_outliers('UrbanPop')\",\n  \"rows\": 1,\n  \"fields\": [\n    {\n      \"column\": \"Unnamed: 0\",\n      \"properties\": {\n        \"dtype\": \"string\",\n        \"num_unique_values\": 1,\n        \"samples\": [\n          \"Massachusetts\"\n        ],\n        \"semantic_type\": \"\",\n        \"description\": \"\"\n      }\n    },\n    {\n      \"column\": \"Murder\",\n      \"properties\": {\n        \"dtype\": \"number\",\n        \"std\": null,\n        \"min\": 4.4,\n        \"max\": 4.4,\n        \"num_unique_values\": 1,\n        \"samples\": [\n          4.4\n        ],\n        \"semantic_type\": \"\",\n        \"description\": \"\"\n      }\n    },\n    {\n      \"column\": \"Assault\",\n      \"properties\": {\n        \"dtype\": \"number\",\n        \"std\": null,\n        \"min\": 149,\n        \"max\": 149,\n        \"num_unique_values\": 1,\n        \"samples\": [\n          149\n        ],\n        \"semantic_type\": \"\",\n        \"description\": \"\"\n      }\n    },\n    {\n      \"column\": \"UrbanPop\",\n      \"properties\": {\n        \"dtype\": \"number\",\n        \"std\": null,\n        \"min\": 30000,\n        \"max\": 30000,\n        \"num_unique_values\": 1,\n        \"samples\": [\n          30000\n        ],\n        \"semantic_type\": \"\",\n        \"description\": \"\"\n      }\n    },\n    {\n      \"column\": \"Fraud\",\n      \"properties\": {\n        \"dtype\": \"number\",\n        \"std\": null,\n        \"min\": 16.3,\n        \"max\": 16.3,\n        \"num_unique_values\": 1,\n        \"samples\": [\n          16.3\n        ],\n        \"semantic_type\": \"\",\n        \"description\": \"\"\n      }\n    }\n  ]\n}"
            }
          },
          "metadata": {},
          "execution_count": 36
        }
      ]
    },
    {
      "cell_type": "markdown",
      "source": [
        "We found again only one outlier on Urbanpop data on Massachusetts State as we found by using zscore method."
      ],
      "metadata": {
        "id": "k1Fzibx0DjJu"
      }
    },
    {
      "cell_type": "markdown",
      "source": [
        "**Task** **5** : Let calculate the Range,Standard Deviation, and Variance of data in Urbanpop and Assault"
      ],
      "metadata": {
        "id": "rUxi3WSNEHPv"
      }
    },
    {
      "cell_type": "code",
      "source": [
        "# Range on urbanpop and assault data\n",
        "min_value = df[['UrbanPop','Assault']].min()\n",
        "max_value = df[['UrbanPop','Assault']].max()\n",
        "\n",
        "range_value = max_value - min_value\n",
        "print(range_value)"
      ],
      "metadata": {
        "colab": {
          "base_uri": "https://localhost:8080/"
        },
        "id": "ELmVrG9VEi4c",
        "outputId": "83bcce77-dd42-4f7c-dd8b-baeceb49db37"
      },
      "execution_count": 21,
      "outputs": [
        {
          "output_type": "stream",
          "name": "stdout",
          "text": [
            "UrbanPop    29968\n",
            "Assault       292\n",
            "dtype: int64\n"
          ]
        }
      ]
    },
    {
      "cell_type": "code",
      "source": [
        "# To evaluate the range we could also do\n",
        "print(np.ptp(df[['Assault','UrbanPop']],axis=0))"
      ],
      "metadata": {
        "colab": {
          "base_uri": "https://localhost:8080/"
        },
        "id": "DrZ5oQmVOpn9",
        "outputId": "5cec7165-87a7-4116-f50f-cbc51c9cdbee"
      },
      "execution_count": 40,
      "outputs": [
        {
          "output_type": "stream",
          "name": "stdout",
          "text": [
            "Assault       292\n",
            "UrbanPop    29968\n",
            "dtype: int64\n"
          ]
        }
      ]
    },
    {
      "cell_type": "code",
      "source": [
        "# Standard deviation on Urbanpop and Assault data\n",
        "df[['UrbanPop','Assault']].std(ddof=0)"
      ],
      "metadata": {
        "colab": {
          "base_uri": "https://localhost:8080/"
        },
        "id": "iE9M6B1YFrcr",
        "outputId": "3b474dfa-0764-4e0a-f099-e42f878d1cbf"
      },
      "execution_count": 23,
      "outputs": [
        {
          "output_type": "execute_result",
          "data": {
            "text/plain": [
              "UrbanPop    4190.903575\n",
              "Assault       82.500075\n",
              "dtype: float64"
            ]
          },
          "metadata": {},
          "execution_count": 23
        }
      ]
    },
    {
      "cell_type": "code",
      "source": [
        "# Variance on Urbanpop and Assault data\n",
        "df[['UrbanPop','Assault']].var(ddof=0)"
      ],
      "metadata": {
        "colab": {
          "base_uri": "https://localhost:8080/"
        },
        "id": "ftkpEERVGLcr",
        "outputId": "9d84601b-8beb-4d4f-c539-014860e4907e"
      },
      "execution_count": 24,
      "outputs": [
        {
          "output_type": "execute_result",
          "data": {
            "text/plain": [
              "UrbanPop    1.756367e+07\n",
              "Assault     6.806262e+03\n",
              "dtype: float64"
            ]
          },
          "metadata": {},
          "execution_count": 24
        }
      ]
    }
  ]
}